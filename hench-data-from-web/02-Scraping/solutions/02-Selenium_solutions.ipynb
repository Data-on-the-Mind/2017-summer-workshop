{
 "cells": [
  {
   "cell_type": "markdown",
   "metadata": {},
   "source": [
    "# Webscraping with Selenium\n",
    "*****\n",
    "When the data that you want exists on a website with heavy JavaScript and requires interaction from the user, `BeautifulSoup` will not be enough. This is when you need a webdriver. One of the most popular webdrivers is [Selenium](http://www.seleniumhq.org/projects/webdriver/). Selenium is commonly used in industry to automate testing of the user experience, but it can also interact with content to collect data that are difficult to get otherwise.\n",
    "\n",
    "This lesson is a short introduction to the Selenium webdriver. It includes:\n",
    "\n",
    "1. Launching the webdriver\n",
    "2. Navigating the browser\n",
    "3. Collecting generated data\n",
    "4. Exporting data to CSV\n",
    "\n",
    "Let's first import the necessary Python libraries:"
   ]
  },
  {
   "cell_type": "code",
   "execution_count": null,
   "metadata": {
    "collapsed": false
   },
   "outputs": [],
   "source": [
    "from selenium import webdriver  # powers the browser interaction\n",
    "from selenium.webdriver.support.ui import Select  # selects menu options\n",
    "from pyvirtualdisplay import Display  # for JHub environment\n",
    "from bs4 import BeautifulSoup  # to parse HTML\n",
    "import csv  # to write CSV\n",
    "import pandas  # to see CSV"
   ]
  },
  {
   "cell_type": "markdown",
   "metadata": {},
   "source": [
    "Selenium actually uses our web browser, and since the JupyterHub doesn't come with Firefox, we'll download the binaries:"
   ]
  },
  {
   "cell_type": "code",
   "execution_count": null,
   "metadata": {
    "collapsed": true
   },
   "outputs": [],
   "source": [
    "# download firefox binaries\n",
    "!wget http://ftp.mozilla.org/pub/firefox/releases/54.0/linux-x86_64/en-US/firefox-54.0.tar.bz2\n",
    "    \n",
    "# untar binaries\n",
    "!tar xvjf firefox-54.0.tar.bz2"
   ]
  },
  {
   "cell_type": "markdown",
   "metadata": {},
   "source": [
    "We also need the webdriver for Firefox that allows Selenium to interact directly with the browser through the code we write. We can download the `geckodriver` for Firefox from the github page:"
   ]
  },
  {
   "cell_type": "code",
   "execution_count": null,
   "metadata": {
    "collapsed": true
   },
   "outputs": [],
   "source": [
    "# download geckodriver\n",
    "!wget https://github.com/mozilla/geckodriver/releases/download/v0.17.0/geckodriver-v0.17.0-linux64.tar.gz\n",
    "    \n",
    "# untar geckdriver\n",
    "!tar xzvf geckodriver-v0.17.0-linux64.tar.gz"
   ]
  },
  {
   "cell_type": "markdown",
   "metadata": {},
   "source": [
    "# 1. Launching the webdriver"
   ]
  },
  {
   "cell_type": "markdown",
   "metadata": {},
   "source": [
    "Since we are in different environment and we can't use our regular graphical desktop, we need to tell Python to start a virutal display, onto which `Selenium` can project the Firefox web browser (though we won't actually see it)."
   ]
  },
  {
   "cell_type": "code",
   "execution_count": null,
   "metadata": {
    "collapsed": true
   },
   "outputs": [],
   "source": [
    "display = Display(visible=0, size=(1024, 768))\n",
    "display.start()"
   ]
  },
  {
   "cell_type": "markdown",
   "metadata": {},
   "source": [
    "Now we can initialize the `Selenium` web driver, giving it the path to the Firefox binary code and the driver:"
   ]
  },
  {
   "cell_type": "code",
   "execution_count": null,
   "metadata": {
    "collapsed": true
   },
   "outputs": [],
   "source": [
    "# setup driver\n",
    "driver = webdriver.Firefox(firefox_binary='./firefox/firefox', executable_path=\"./geckodriver\")"
   ]
  },
  {
   "cell_type": "markdown",
   "metadata": {},
   "source": [
    "You can navigate `Selenium` to a URL by using the `get` method, exactly the same way we used the `requests.get` before:"
   ]
  },
  {
   "cell_type": "code",
   "execution_count": null,
   "metadata": {
    "collapsed": true
   },
   "outputs": [],
   "source": [
    "driver.get(\"http://www.google.com\")\n",
    "print(driver.page_source)"
   ]
  },
  {
   "cell_type": "markdown",
   "metadata": {},
   "source": [
    "Cool, right? You can see Google in your browser now. Let's go look at some [West Bengal State](http://wbsec.gov.in/) election results:"
   ]
  },
  {
   "cell_type": "markdown",
   "metadata": {},
   "source": [
    "# 2. Navigating the browser"
   ]
  },
  {
   "cell_type": "markdown",
   "metadata": {},
   "source": [
    "To follow along as `Selenium` navigates the website, try opening the <a href=\"http://wbsec.gov.in/(S(eoxjutirydhdvx550untivvu))/DetailedResult/Detailed_gp_2013.aspx\">site</a> in another tab. You'll notice if you select options from the menu, it calls a script to generate a custom table. The URL doesn't change, and so we can't just call for the HTML of the page, it needs to be generated. That's where `Selenium` shines. It can choose these menu options and wait for the generated table before grabbing the new HTML for the data."
   ]
  },
  {
   "cell_type": "code",
   "execution_count": null,
   "metadata": {
    "collapsed": true
   },
   "outputs": [],
   "source": [
    "# go results page\n",
    "driver.get(\"http://wbsec.gov.in/(S(eoxjutirydhdvx550untivvu))/DetailedResult/Detailed_gp_2013.aspx\")"
   ]
  },
  {
   "cell_type": "markdown",
   "metadata": {},
   "source": [
    "### Zilla Parishad"
   ]
  },
  {
   "cell_type": "markdown",
   "metadata": {},
   "source": [
    "Similar to `BeautifulSoup`, `Selenium` has methods to find elements on a webpage. We can use the method `find_element_by_name` to find an element on the page by its name."
   ]
  },
  {
   "cell_type": "code",
   "execution_count": null,
   "metadata": {
    "collapsed": true
   },
   "outputs": [],
   "source": [
    "# find \"district\" drop down menu\n",
    "district = driver.find_element_by_name(\"ddldistrict\")"
   ]
  },
  {
   "cell_type": "code",
   "execution_count": null,
   "metadata": {
    "collapsed": true
   },
   "outputs": [],
   "source": [
    "district"
   ]
  },
  {
   "cell_type": "markdown",
   "metadata": {},
   "source": [
    "Now if we want to get the different options in this drop down, we can do the same. You'll notice that each name is associated with a unique value. Since we're getting multiple elements here, we'll use `find_elements_by_tag_name`"
   ]
  },
  {
   "cell_type": "code",
   "execution_count": null,
   "metadata": {
    "collapsed": true
   },
   "outputs": [],
   "source": [
    "# find options in \"disrict\" drop down\n",
    "district_options = district.find_elements_by_tag_name(\"option\")\n",
    "\n",
    "print(district_options[1].get_attribute(\"value\"))\n",
    "print(district_options[1].text)"
   ]
  },
  {
   "cell_type": "markdown",
   "metadata": {},
   "source": [
    "Now we'll make a dictionary associating each name with its value."
   ]
  },
  {
   "cell_type": "code",
   "execution_count": null,
   "metadata": {
    "collapsed": true
   },
   "outputs": [],
   "source": [
    "d_options = {option.text.strip(): option.get_attribute(\"value\") for option in district_options if option.get_attribute(\"value\").isdigit()}\n",
    "print(d_options)"
   ]
  },
  {
   "cell_type": "markdown",
   "metadata": {},
   "source": [
    "We can then select a district by using its name and our dictionary. First we'll make our own function using `Selenium`'s `Select`, and then we'll call it on \"Bankura\"."
   ]
  },
  {
   "cell_type": "code",
   "execution_count": null,
   "metadata": {
    "collapsed": true
   },
   "outputs": [],
   "source": [
    "district_select = Select(district)\n",
    "district_select.select_by_value(d_options[\"Bankura\"])"
   ]
  },
  {
   "cell_type": "markdown",
   "metadata": {},
   "source": [
    "You should have seen the dropdown menu select 'Bankura' by running the previous cell."
   ]
  },
  {
   "cell_type": "markdown",
   "metadata": {},
   "source": [
    "### Panchayat Samity"
   ]
  },
  {
   "cell_type": "markdown",
   "metadata": {},
   "source": [
    "We can do the same as we did above to find the different blocks."
   ]
  },
  {
   "cell_type": "code",
   "execution_count": null,
   "metadata": {
    "collapsed": true
   },
   "outputs": [],
   "source": [
    "# find the \"block\" drop down\n",
    "block = driver.find_element_by_name(\"ddlblock\")"
   ]
  },
  {
   "cell_type": "code",
   "execution_count": null,
   "metadata": {
    "collapsed": true
   },
   "outputs": [],
   "source": [
    "# get options\n",
    "block_options = block.find_elements_by_tag_name(\"option\")\n",
    "\n",
    "print(block_options[1].get_attribute(\"value\"))\n",
    "print(block_options[1].text)"
   ]
  },
  {
   "cell_type": "code",
   "execution_count": null,
   "metadata": {
    "collapsed": true
   },
   "outputs": [],
   "source": [
    "b_options = {option.text.strip(): option.get_attribute(\"value\") for option in block_options if option.get_attribute(\"value\").isdigit()}\n",
    "print(b_options)"
   ]
  },
  {
   "cell_type": "code",
   "execution_count": null,
   "metadata": {
    "collapsed": true
   },
   "outputs": [],
   "source": [
    "panchayat_select = Select(block)\n",
    "panchayat_select.select_by_value(b_options[\"BANKURA-I\"])"
   ]
  },
  {
   "cell_type": "markdown",
   "metadata": {},
   "source": [
    "Great! One dropdown menu to go."
   ]
  },
  {
   "cell_type": "markdown",
   "metadata": {},
   "source": [
    "### Gram Panchayat"
   ]
  },
  {
   "cell_type": "code",
   "execution_count": null,
   "metadata": {
    "collapsed": true
   },
   "outputs": [],
   "source": [
    "# get options\n",
    "gp = driver.find_element_by_name(\"ddlgp\")\n",
    "gp_options = gp.find_elements_by_tag_name(\"option\")\n",
    "\n",
    "print(gp_options[1].get_attribute(\"value\"))\n",
    "print(gp_options[1].text)"
   ]
  },
  {
   "cell_type": "code",
   "execution_count": null,
   "metadata": {
    "collapsed": true
   },
   "outputs": [],
   "source": [
    "gp_options = {option.text.strip(): option.get_attribute(\"value\") for option in gp_options if option.get_attribute(\"value\").isdigit()}\n",
    "print(gp_options)"
   ]
  },
  {
   "cell_type": "code",
   "execution_count": null,
   "metadata": {
    "collapsed": true
   },
   "outputs": [],
   "source": [
    "gram_select = Select(gp)\n",
    "gram_select.select_by_value(gp_options[\"ANCHURI\"])"
   ]
  },
  {
   "cell_type": "markdown",
   "metadata": {},
   "source": [
    "Once we selected the last dropdown menu parameter, the website automatically generate a table below. This table could not have been called up by a URL, as you can see that the URL in the browser did not change. This is why `Selenium` is so helpful."
   ]
  },
  {
   "cell_type": "markdown",
   "metadata": {},
   "source": [
    "# 3. Collecting generated data"
   ]
  },
  {
   "cell_type": "markdown",
   "metadata": {},
   "source": [
    "Now that the table has been rendered, it exists as HTML in our page source. If we wanted to, we could send this to `BeautifulSoup` using the `driver.page_source` method to get the text. But we can also use `Selenium`'s parsing methods.\n",
    "\n",
    "First we'll identify it by its CSS selector, and then use the `get_attribute` method."
   ]
  },
  {
   "cell_type": "code",
   "execution_count": null,
   "metadata": {
    "collapsed": true
   },
   "outputs": [],
   "source": [
    "soup = BeautifulSoup(driver.page_source, 'html5lib')"
   ]
  },
  {
   "cell_type": "code",
   "execution_count": null,
   "metadata": {
    "collapsed": true
   },
   "outputs": [],
   "source": [
    "# get the html for the table\n",
    "table = soup.select('#DataGrid1')[0]"
   ]
  },
  {
   "cell_type": "markdown",
   "metadata": {},
   "source": [
    "First we'll get all the rows of the table using the `tr` selector."
   ]
  },
  {
   "cell_type": "code",
   "execution_count": null,
   "metadata": {
    "collapsed": true
   },
   "outputs": [],
   "source": [
    "# get list of rows\n",
    "rows = [row for row in table.select(\"tr\")]"
   ]
  },
  {
   "cell_type": "markdown",
   "metadata": {},
   "source": [
    "But the first row is the header so we don't want that."
   ]
  },
  {
   "cell_type": "code",
   "execution_count": null,
   "metadata": {
    "collapsed": true
   },
   "outputs": [],
   "source": [
    "rows = rows[1:]"
   ]
  },
  {
   "cell_type": "markdown",
   "metadata": {},
   "source": [
    "Each cell in the row corresponds to the data we want."
   ]
  },
  {
   "cell_type": "code",
   "execution_count": null,
   "metadata": {
    "collapsed": true
   },
   "outputs": [],
   "source": [
    "rows[0].select('td')"
   ]
  },
  {
   "cell_type": "markdown",
   "metadata": {},
   "source": [
    "Now it's just a matter of looping through the rows and getting the information we want from each one."
   ]
  },
  {
   "cell_type": "code",
   "execution_count": null,
   "metadata": {
    "collapsed": true
   },
   "outputs": [],
   "source": [
    "data = []\n",
    "for row in rows:\n",
    "    d = {}\n",
    "    seat_names = row.select('td')[0].find_all(\"span\")\n",
    "    d['seat'] = ' '.join([x.text for x in seat_names])\n",
    "    d['electors'] = row.select('td')[1].text.strip()\n",
    "    d['polled'] = row.select('td')[2].text.strip()\n",
    "    d['rejected'] = row.select('td')[3].text.strip()\n",
    "    d['osn'] = row.select('td')[4].text.strip()\n",
    "    d['candidate'] = row.select('td')[5].text.strip()\n",
    "    d['party'] = row.select('td')[6].text.strip()\n",
    "    d['secured'] = row.select('td')[7].text.strip()\n",
    "    data.append(d)"
   ]
  },
  {
   "cell_type": "code",
   "execution_count": null,
   "metadata": {
    "collapsed": true
   },
   "outputs": [],
   "source": [
    "print(data[1])"
   ]
  },
  {
   "cell_type": "markdown",
   "metadata": {},
   "source": [
    "You'll notice that some of the information, such as total electors, is not supplied for each canddiate. This code will add that information for the candidates who don't have it."
   ]
  },
  {
   "cell_type": "code",
   "execution_count": null,
   "metadata": {
    "collapsed": true
   },
   "outputs": [],
   "source": [
    "i = 0\n",
    "while i < len(data):\n",
    "    if data[i]['seat']:\n",
    "        seat = data[i]['seat']\n",
    "        electors = data[i]['electors']\n",
    "        polled = data[i]['polled']\n",
    "        rejected = data[i]['rejected']\n",
    "        i = i+1\n",
    "    else:\n",
    "        data[i]['seat'] = seat\n",
    "        data[i]['electors'] = electors\n",
    "        data[i]['polled'] = polled\n",
    "        data[i]['rejected'] = rejected\n",
    "        i = i+1"
   ]
  },
  {
   "cell_type": "code",
   "execution_count": null,
   "metadata": {
    "collapsed": true
   },
   "outputs": [],
   "source": [
    "data"
   ]
  },
  {
   "cell_type": "markdown",
   "metadata": {},
   "source": [
    "# 4. Exporting data to CSV\n",
    "\n",
    "We can then loop through all the combinations of the dropdown menu we want, collect the information from the generated table, and append it to the `data` list. Once we're done, we can write it to a CSV."
   ]
  },
  {
   "cell_type": "code",
   "execution_count": null,
   "metadata": {
    "collapsed": true
   },
   "outputs": [],
   "source": [
    "header = data[0].keys()\n",
    "\n",
    "with open('WBS-table.csv', 'w') as output_file:\n",
    "    dict_writer = csv.DictWriter(output_file, header)\n",
    "    dict_writer.writeheader()\n",
    "    dict_writer.writerows(data)\n",
    "    \n",
    "pandas.read_csv('WBS-table.csv')"
   ]
  }
 ],
 "metadata": {
  "anaconda-cloud": {},
  "kernelspec": {
   "display_name": "Python [default]",
   "language": "python",
   "name": "python3"
  },
  "language_info": {
   "codemirror_mode": {
    "name": "ipython",
    "version": 3
   },
   "file_extension": ".py",
   "mimetype": "text/x-python",
   "name": "python",
   "nbconvert_exporter": "python",
   "pygments_lexer": "ipython3",
   "version": "3.5.2"
  }
 },
 "nbformat": 4,
 "nbformat_minor": 1
}
