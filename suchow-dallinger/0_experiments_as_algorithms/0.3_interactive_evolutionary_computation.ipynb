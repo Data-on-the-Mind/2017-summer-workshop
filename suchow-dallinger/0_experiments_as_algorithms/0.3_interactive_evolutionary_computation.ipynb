{
  "cells": [
    {
      "cell_type": "markdown",
      "source": [
        "# Interactive evolutionary computation\n",
        "\n",
        "Preferences can be elicited experimentally by asking a participant to choose which of two options is preferable. For example, in psychology and behavioral economics, studies of temporal discounting ask a person to select between a small sum given now and a larger sum given later. Tw alternative forced-choice designs over all possible pairs of competing forms can find the preferred\n",
        "form when the set of options is small, but the procedure scales poorly when there are many forms to compare. Consider for example vanity numbers, telephone numbers with a custom and often easily remembered sequence of digits (e.g., +1 202 456-1111). An algorithm that finds preferred vanity numbers by taking as input pairwise preference judgments across all valid telephone numbers is intractable. \n",
        "\n",
        "Interactive evolutionary computation can solve problems like finding good vanity numbers by inserting human participants into various parts of an evolutionary process. In interactive genetic algorithms, for example, a human participant may act as the selection mechanism, using aesthetic judgment to select which forms will replicate to form the next generation. In many cases, these algorithms quickly converge on preferred forms.\n",
        "\n",
        "- *Algorithm* — genetic algorithm.\n",
        "- *Design space* — the different forms that can be evolved\n",
        "- *Automator* — a computer program or web application that automates human-in-the-loop computation.\n",
        "\n",
        "## Exercise 1\n",
        "\n",
        "Go to http://endlessforms.com/, press \"Start Anew\", and evolve a population of 3D objects. The first time you do it, use an aesthetic objective function: pick whichever shape you find most pleasing to the eye.\n",
        "\n",
        "## Exercise 2\n",
        "\n",
        "Evolve a new population of objects, this time selecting your own objective function. Can you think of an objective function that relies on a human cognitive capacity that couldn't easily be replicated by a machine?\n",
        "\n",
        "Call your shots by writing down the objective function you will use:\n",
        "\n"
      ],
      "metadata": {}
    },
    {
      "cell_type": "markdown",
      "source": [
        "&rarr;"
      ],
      "metadata": {}
    },
    {
      "cell_type": "markdown",
      "source": [
        "## Further reading\n",
        "\nTakagi, H. (2001). Interactive evolutionary computation: Fusion of the capabilities of EC optimization and human evaluation. *Proceedings of the IEEE*, 89(9):1275–1296."
      ],
      "metadata": {}
    }
  ],
  "metadata": {
    "kernelspec": {
      "name": "python2",
      "language": "python",
      "display_name": "Python 2"
    },
    "kernel_info": {
      "name": "python2"
    },
    "language_info": {
      "mimetype": "text/x-python",
      "nbconvert_exporter": "python",
      "name": "python",
      "pygments_lexer": "ipython2",
      "version": "2.7.13",
      "file_extension": ".py",
      "codemirror_mode": {
        "version": 2,
        "name": "ipython"
      }
    }
  },
  "nbformat": 4,
  "nbformat_minor": 4
}