{
  "cells": [
    {
      "cell_type": "markdown",
      "source": [
        "# Markov-chain Monte Carlo with People\n",
        "\n",
        "A central goal of cognitive psychology is to elucidate the mental representations underlying people’s perceptions, inferences, and decisions about the world around them. The psychologist’s toolbox includes several methods for estimating these mental representations by asking participants to make\n",
        "judgments about a fixed set of stimuli chosen at the outset of the experiment. For example, one such method, multidimensional scaling (MDS), begins with a matrix of pairwise dissimilarity judgments between the items in a set (e.g. relative distances between major cities in the U.S.) and reduces it to a\n",
        "low-dimensional space preserving the similarity structure (e.g., a 2D map).\n",
        "\n\n",
        "e.g., see http://personality-project.org/r/mds.html.\n",
        "\n\n",
        "Though successful, these methods are inefficient because they do not use information acquired during an experiment to inform its design.\n",
        "A more efficient technique to reveal human mental representations is based on Markov chain Monte Carlo (MCMC), a class of algorithms from statistical physics that sample from a probability distribution by constructing a Markov chain that converges on the distribution of interest. A Markov chain is a stochastic process defined by a matrix of probabilities of transitions from a given state\n",
        "to any other. Variants of MCMC differ in how each new state of the chain is proposed and then perhaps accepted or rejected. By noting an equivalence between the Barker acceptance function and the Luce choice axiom, a classic decision rule in psychology, Sanborn et al. designed an experimental procedure that reveals human mental representations by inserting human decisions into an MCMC algorithm. Specifically, on each iteration of the algorithm, the participant is asked which of two stimuli belong to the category under question. \n",
        "\n",
        "Because under both the Luce choice axiom and the Barker acceptance function stimuli are chosen with probability proportional to their probability under distribution in question, the resultant chain converges on a probability\n",
        "distribution matching the human’s mental representations. To validate the technique, Sanborn et al. asked participants to choose which of two stick-figure quadrupeds represents a particular animal species (e.g., a giraffe). Over many iterations of the algorithm, the chain converges on a stationary distribution that visits stick-figure forms in proportion to their probability under the human participant’s mental representation of that species. The technique has been applied to uncover diverse mental representations, including those of phonemes, facial affects, and colliding objects."
      ],
      "metadata": {}
    },
    {
      "cell_type": "markdown",
      "source": [
        "## Further reading\n",
        "\nSanborn, A. N., Griffiths, T. L., & Shiffrin, R. (2010). Uncovering mental representations with Markov chain Monte Carlo. Cognitive Psychology, 60, 63-106."
      ],
      "metadata": {}
    }
  ],
  "metadata": {
    "kernelspec": {
      "name": "python2",
      "language": "python",
      "display_name": "Python 2"
    },
    "kernel_info": {
      "name": "python2"
    },
    "language_info": {
      "mimetype": "text/x-python",
      "nbconvert_exporter": "python",
      "name": "python",
      "pygments_lexer": "ipython2",
      "version": "2.7.13",
      "file_extension": ".py",
      "codemirror_mode": {
        "version": 2,
        "name": "ipython"
      }
    }
  },
  "nbformat": 4,
  "nbformat_minor": 4
}