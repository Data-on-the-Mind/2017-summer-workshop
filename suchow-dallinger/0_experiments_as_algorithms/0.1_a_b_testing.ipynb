{
  "cells": [
    {
      "cell_type": "markdown",
      "source": [
        "# A / B testing, adaptive trials\n",
        "\n",
        "The Belmont Report formalizes principles and standards of medical ethics so as to prevent egregious breaches of a doctor’s professional duty to the patient while recognizing that even careful research may expose participants to a risk of harm, a risk that must be minimized [1]. Clinical trials, which measure the efficacy and safety of new medical treatments, typically employ randomized, doubleblind, placebo-controlled experiments. In these studies, some of the participants are assigned the new treatment, while the others are assigned to a placebo treatment. An ethical dilemma arises whenever partial results of a clinical trial suggest a significant improvement or worsening in the group\n",
        "receiving the new treatment as compared to the control. It has been argued that by continuing the study as originally planned, through their inaction the experimenters harm one set of participants or the other. Adaptive trials, which have grown in popularity over the past several decades, can solve the\n",
        "dilemma by considering the results of an ongoing trial when deciding whether new participants will be assigned to receive the new treatment or the placebo [2].\n",
        "The multi-armed bandit problem provides a formalization of this dilemma, describing in abstract form the problem faced by a decision-maker who aims to maximize reward in a setting where there are multiple options with unknown value [3]. On each trial, the decision-maker selects an arm and perhaps receives a reward. The decision-maker must balance the benefit of exploiting options known\n",
        "to provide good rewards with the cost of failing to explore the other options, which may provide even better rewards. "
      ],
      "metadata": {}
    },
    {
      "cell_type": "markdown",
      "source": [
        "## Discussion 1\n",
        "\nThink of an algorithm, existing or new, that could be used by researchers running a clinical trial to adaptively decide whether to assign people to the experimental or control condition. "
      ],
      "metadata": {}
    },
    {
      "cell_type": "markdown",
      "source": [
        "A variety of algorithms have been proposed that aim to maximize expected reward. For example, Thompson sampling is an algorithm that addresses the exploration–exploitation dilemma by probability matching to the posterior probability that an arm provides the highest reward, and under certain conditions converges to the optimal policy [2]. Other algorithms, such as UCB1 and epsilon-greedy, take\n",
        "different approaches [2]."
      ],
      "metadata": {}
    },
    {
      "cell_type": "markdown",
      "source": [
        "## Discussion 2\n",
        "\nWhat are some examples of A / B testing in the wild? Is A / B testing of UX design human subjects research? What ethical concerns might arise?"
      ],
      "metadata": {}
    },
    {
      "cell_type": "markdown",
      "source": [
        "## Further reading\n",
        "\n",
        "[1] National Commission for the Protection of Human Subjects of Biome Beha Resea and Kenneth John Pres\n",
        "Ryan. The Belmont Report: Ethical Principles and Guidelines for the Protection of Human Subjects of\n",
        "Research-the National Commission for the Protection of Human Subjects of Biomedical and Behavioral\n",
        "Research. *US Government Printing Office*, 1978.\n",
        "\n",
        "[2] Olivier Chapelle and Lihong Li. An empirical evaluation of Thompson sampling. In Advances in Neural\n",
        "Information Processing Systems, pages 2249–2257, 2011.\n",
        "\n[3] Aditya Mahajan and Demosthenis Teneketzis. Multi-armed bandit problems. In Foundations and Applications of Sensor Management, pages 121–151. Springer, 2008."
      ],
      "metadata": {}
    }
  ],
  "metadata": {
    "kernelspec": {
      "name": "python2",
      "language": "python",
      "display_name": "Python 2"
    },
    "kernel_info": {
      "name": "python2"
    },
    "language_info": {
      "mimetype": "text/x-python",
      "nbconvert_exporter": "python",
      "name": "python",
      "pygments_lexer": "ipython2",
      "version": "2.7.13",
      "file_extension": ".py",
      "codemirror_mode": {
        "version": 2,
        "name": "ipython"
      }
    }
  },
  "nbformat": 4,
  "nbformat_minor": 4
}