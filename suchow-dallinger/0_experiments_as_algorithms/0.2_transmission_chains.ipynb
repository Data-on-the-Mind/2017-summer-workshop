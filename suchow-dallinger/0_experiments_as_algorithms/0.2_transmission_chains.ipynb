{
  "cells": [
    {
      "cell_type": "markdown",
      "source": [
        "# The transmission chain\n",
        "\n",
        "## A. Serial reproduction\n",
        "\nFrederic Bartlett's 1932 book *Remembering* documents early experiments that explore how using and transmitting a memory can affect the memory’s contents. Bartlett wanted to understand how culture shapes memory. Inspired by Philippe (1897), he performed a series of experiments that asked participants to repeatedly recall a memory or to pass it down a chain of people, from one to the next. Bartlett showed that the process of reproduction alters memories over time, causing them to take on features from an individual’s culture. More generally, the methods he developed expose cumulative effects of the forces that reshape and degrade memories and how they impact the structure and veracity of what we remember."
      ],
      "metadata": {}
    },
    {
      "cell_type": "markdown",
      "source": [
        "For example, in one experiment participants read a newspaper story about cricket:\n",
        "\n",
        "> The match between Middlesex and Kent was continued at Lord's yesterday before another large crowd. The revival of interest in county cricket is undoubtedly the leading feature of this summer's sport; it is most encouraging to old lovers of the game and to those who, like the writer, believe that cricket is the greatest of the national games and is something of an index of the national greatness. Mr Bickmore and Hardinge continued the Kent innings to the bowling of Durston, from the pavilion end, and Hearne. They both began quietly, Mr Bickmore alone showing lack of restraint in feeling at some of Durston's short ones on the off. He will become a great batsman if he can overcome the desire to score off good balls before he is set. The wicket was by no means perfect after the rain the day before, and after adding 20 runs in as many minutes, Mr Bickmore was stumped in 'having a go' at Hearne. Seymour soon left, well taken low down in the slips with the left hand by Mr Kidd---a beautiful catch. Woolley came in and seemed set at once. He played every ball with equal ease and confidence and seemed able to score off any ball. Hardinge, who had been batting really well, was caught at cover in attempting a second four off Lee who had replaced Durston. 3 for 49. Mr Hedges then joined Woolley and some of the most beautiful batting seen at Lord's this year followed. There was hardly a rash stroke and yet the ball traveled to the boundary in all directions with almost monotonous regularity. Owing to the curtailed play on Saturday, Col. Troughton was probably right in declaring at the tea interval with the score at 360 for 3. Woolley's 182 not out was one of the greatest innings he has ever played. Though the pitch was never easy and the bowling never really loose, he batted without fault or apparent doubt. Mr Hedges also played a beautiful innings, though not so faultless. Middlesex had a bad time after tea, before rain again stopped play, losing four good wickets for 75. During the day 18,500 people paid for admission.\n",
        "\n",
        "Let's take a look at the data. Here's the first participant's reproduction:\n",
        "\n",
        "> There was a cricket match yesterday and some British people had fond memories of how great the sport it. Mr. Bickmore went bowling and and Hearne is one of the greatest batters of all time. The ball traveled far and the score was 360 wickets or something. Then they all had tea and it rained because England. Somebody lost a wicket. Thousand of people went to go see the game.\n",
        "\n",
        "And the second:\n",
        "\n",
        "> There was a cricket game yesterday and some British people remember the sport fondly. Bickmore and Hearne are really great batters. Everyone drank tea and it rained because they were in England. Thousands of people went to the game, but somebody lost their ticket.\n",
        "\n",
        "And the third:\n",
        "\n",
        "> There was a cricket match yesterday; the British are fond of the sport. Blickmore and Hern were the greatest batters. It rained and they served tea to the thousands of people who went to the game, except somebody lost their ticket. :(\n",
        "\n",
        "And the fourth:\n",
        "\n",
        "> There was a cricket match yesterday; the British are fond of the sport. Blackmore and Hern are the greatest batters in the history of the sport. It rained during the game, so they served tea to everyone, except the people who lost their tickets.\n",
        "\n\n"
      ],
      "metadata": {}
    },
    {
      "cell_type": "markdown",
      "source": [
        "**Exercise**. Put these five pieces of text into a single data structure and perform some basic textual analysis."
      ],
      "metadata": {}
    },
    {
      "cell_type": "code",
      "source": [
        "# YOUR CODE GOES HERE."
      ],
      "outputs": [],
      "execution_count": 11,
      "metadata": {
        "collapsed": false,
        "outputHidden": false,
        "inputHidden": false
      }
    },
    {
      "cell_type": "markdown",
      "source": [
        "## B. Iterated learning\n",
        "\nA related technique is iterated learning, where instead of passing verbatim reconstructions down a chain, the participant learns from limited information and is then tested on cases they did not directly observe. (For example, to convert the above experiment to an iterated learning experiment, you could remove every other sentence and see if the particpants could nonetheless learn the underlying event structure of the story.)"
      ],
      "metadata": {}
    },
    {
      "cell_type": "markdown",
      "source": [
        "*See slides on function learning.*"
      ],
      "metadata": {}
    },
    {
      "cell_type": "markdown",
      "source": [
        "## Further reading\n",
        "\n",
        "Bartlett, F. C. (1932). Remembering. Cambridge: Cambridge University Press.\n",
        "\nKalish, M. L., Griffiths, T. L., & Lewandowsky, S. (2007). Iterated learning: Intergenerational knowledge transmission reveals inductive biases. Psychonomic Bulletin and Review, 14, 288-294"
      ],
      "metadata": {}
    }
  ],
  "metadata": {
    "kernelspec": {
      "name": "python2",
      "language": "python",
      "display_name": "Python 2"
    },
    "kernel_info": {
      "name": "python2"
    },
    "language_info": {
      "mimetype": "text/x-python",
      "nbconvert_exporter": "python",
      "name": "python",
      "pygments_lexer": "ipython2",
      "version": "2.7.13",
      "file_extension": ".py",
      "codemirror_mode": {
        "version": 2,
        "name": "ipython"
      }
    }
  },
  "nbformat": 4,
  "nbformat_minor": 4
}