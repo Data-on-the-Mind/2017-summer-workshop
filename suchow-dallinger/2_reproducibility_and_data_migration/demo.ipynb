{
  "cells": [
    {
      "cell_type": "markdown",
      "source": [
        "# A computationally reproducible experiment"
      ],
      "metadata": {}
    },
    {
      "cell_type": "code",
      "source": [
        "\"\"\"Computationally reproducible experiments.\"\"\"\n",
        "\n",
        "import dallinger\n",
        "\n",
        "experiment = dallinger.experiments.Griduniverse()\n",
        "\n",
        "data = experiment.collect(\n",
        "    app_id=u\"3b9c2aeb-0eb7-4432-803e-bc437e17b3bb\",\n",
        ")\n",
        "\nprint(data.networks.df)"
      ],
      "outputs": [],
      "execution_count": 2,
      "metadata": {
        "collapsed": false,
        "outputHidden": false,
        "inputHidden": false
      }
    }
  ],
  "metadata": {
    "kernelspec": {
      "name": "python2",
      "language": "python",
      "display_name": "Python 2"
    },
    "kernel_info": {
      "name": "python2"
    },
    "language_info": {
      "mimetype": "text/x-python",
      "nbconvert_exporter": "python",
      "name": "python",
      "pygments_lexer": "ipython2",
      "version": "2.7.13",
      "file_extension": ".py",
      "codemirror_mode": {
        "version": 2,
        "name": "ipython"
      }
    }
  },
  "nbformat": 4,
  "nbformat_minor": 4
}