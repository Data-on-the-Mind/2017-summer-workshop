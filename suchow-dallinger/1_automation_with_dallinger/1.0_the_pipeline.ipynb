{
  "cells": [
    {
      "cell_type": "markdown",
      "source": [
        "# Dallinger, the experiment automator."
      ],
      "metadata": {}
    },
    {
      "cell_type": "markdown",
      "source": [
        "Dallinger has abstracted the entire experimental pipeline into a single Python function call, `dallinger.collect()`. What does it do?"
      ],
      "metadata": {}
    },
    {
      "cell_type": "code",
      "source": [
        "import dallinger\n",
        "\n",
        "experiment = dallinger.experiments.Bartlett1932()\n",
        "data = experiment.collect(\"3b9c2aeb-0eb7-4432-803e-bc437e17b3bb\")\n",
        "data.infos.df"
      ],
      "outputs": [
        {
          "output_type": "stream",
          "name": "stdout",
          "text": [
            ">>>> Retrieve: Data found for experiment 3b9c2aeb-0eb7-4432-803e-bc437e17b3bb, retrieving.\n"
          ]
        },
        {
          "output_type": "execute_result",
          "execution_count": 9,
          "data": {
            "text/plain": [
              "   id              creation_time property1 property2 property3 property4  \\\n",
              "0   1 2017-01-22 18:02:18.543323       NaN       NaN       NaN       NaN   \n",
              "1   2 2017-01-22 18:02:22.540201       NaN       NaN       NaN       NaN   \n",
              "2   3 2017-01-22 18:03:18.700380       NaN       NaN       NaN       NaN   \n",
              "\n",
              "  property5 failed time_of_death  type  origin_id  network_id  \\\n",
              "0       NaN      f           NaN  info          1           1   \n",
              "1       NaN      f           NaN  info          2           1   \n",
              "2       NaN      f           NaN  info          3           1   \n",
              "\n",
              "                                            contents  \n",
              "0  That evening they came after sunset. I was see...  \n",
              "1                                             hello.  \n",
              "2                                            hurray.  "
            ],
            "text/html": [
              "<div>\n",
              "<style>\n",
              "    .dataframe thead tr:only-child th {\n",
              "        text-align: right;\n",
              "    }\n",
              "\n",
              "    .dataframe thead th {\n",
              "        text-align: left;\n",
              "    }\n",
              "\n",
              "    .dataframe tbody tr th {\n",
              "        vertical-align: top;\n",
              "    }\n",
              "</style>\n",
              "<table border=\"1\" class=\"dataframe\">\n",
              "  <thead>\n",
              "    <tr style=\"text-align: right;\">\n",
              "      <th></th>\n",
              "      <th>id</th>\n",
              "      <th>creation_time</th>\n",
              "      <th>property1</th>\n",
              "      <th>property2</th>\n",
              "      <th>property3</th>\n",
              "      <th>property4</th>\n",
              "      <th>property5</th>\n",
              "      <th>failed</th>\n",
              "      <th>time_of_death</th>\n",
              "      <th>type</th>\n",
              "      <th>origin_id</th>\n",
              "      <th>network_id</th>\n",
              "      <th>contents</th>\n",
              "    </tr>\n",
              "  </thead>\n",
              "  <tbody>\n",
              "    <tr>\n",
              "      <th>0</th>\n",
              "      <td>1</td>\n",
              "      <td>2017-01-22 18:02:18.543323</td>\n",
              "      <td>NaN</td>\n",
              "      <td>NaN</td>\n",
              "      <td>NaN</td>\n",
              "      <td>NaN</td>\n",
              "      <td>NaN</td>\n",
              "      <td>f</td>\n",
              "      <td>NaN</td>\n",
              "      <td>info</td>\n",
              "      <td>1</td>\n",
              "      <td>1</td>\n",
              "      <td>That evening they came after sunset. I was see...</td>\n",
              "    </tr>\n",
              "    <tr>\n",
              "      <th>1</th>\n",
              "      <td>2</td>\n",
              "      <td>2017-01-22 18:02:22.540201</td>\n",
              "      <td>NaN</td>\n",
              "      <td>NaN</td>\n",
              "      <td>NaN</td>\n",
              "      <td>NaN</td>\n",
              "      <td>NaN</td>\n",
              "      <td>f</td>\n",
              "      <td>NaN</td>\n",
              "      <td>info</td>\n",
              "      <td>2</td>\n",
              "      <td>1</td>\n",
              "      <td>hello.</td>\n",
              "    </tr>\n",
              "    <tr>\n",
              "      <th>2</th>\n",
              "      <td>3</td>\n",
              "      <td>2017-01-22 18:03:18.700380</td>\n",
              "      <td>NaN</td>\n",
              "      <td>NaN</td>\n",
              "      <td>NaN</td>\n",
              "      <td>NaN</td>\n",
              "      <td>NaN</td>\n",
              "      <td>f</td>\n",
              "      <td>NaN</td>\n",
              "      <td>info</td>\n",
              "      <td>3</td>\n",
              "      <td>1</td>\n",
              "      <td>hurray.</td>\n",
              "    </tr>\n",
              "  </tbody>\n",
              "</table>\n",
              "</div>"
            ]
          },
          "metadata": {}
        }
      ],
      "execution_count": 9,
      "metadata": {
        "collapsed": false,
        "outputHidden": false,
        "inputHidden": false
      }
    },
    {
      "cell_type": "markdown",
      "source": [
        "## Step 1: Look for the data.\n",
        "\nIf it's already been run and the data is available, download it and return immediately. (This is sometimes called \"memoization\".) Otherwise, ..."
      ],
      "metadata": {}
    },
    {
      "cell_type": "markdown",
      "source": [
        "## Step 2: Spawn a web server.\n",
        "\nWe use [Heroku](http://heroku.com), a platform-as-a-service."
      ],
      "metadata": {}
    },
    {
      "cell_type": "markdown",
      "source": [
        "## Step 3: Source the participants.\n",
        "\nCommunicate with crowdsourcing platforms such as Amazon Mechanical Turk to bring participants to the experiment, pointing them at the experiment web server."
      ],
      "metadata": {}
    },
    {
      "cell_type": "markdown",
      "source": [
        "## Step 4: Obtain informed consent.\n",
        "\nParticipants complete a consent form approved by an Institutional Review Board."
      ],
      "metadata": {}
    },
    {
      "cell_type": "markdown",
      "source": [
        "## Step 5: Arrange the participants into a network.\n",
        "\nThe type of experiment determines the relevant network structure. For example, a serial reproduction experiment uses a linear chain. A chatroom uses a fully connected networks. Other experiments may use other network structures."
      ],
      "metadata": {}
    },
    {
      "cell_type": "markdown",
      "source": [
        "## Step 6: Run participants through the experiment.\n",
        "\nNot much to explain here."
      ],
      "metadata": {}
    },
    {
      "cell_type": "markdown",
      "source": [
        "## Step 7: Debrief participants and pay them.\n",
        "\nDallinger automatically pays the participants via the crowdsourcing platform. It's up to you to include an attentional check to determine whether they pass, and a function that computes a bonus from the collected data."
      ],
      "metadata": {}
    },
    {
      "cell_type": "markdown",
      "source": [
        "## Step 8: Conditionally recruit new participants.\n",
        "\nYour exeperiment may require recruitment of new batches of participants. If so, return to **Step 3**."
      ],
      "metadata": {}
    },
    {
      "cell_type": "markdown",
      "source": [
        "## Step 9: Stop the experiment.\n",
        "\nBack up the data to Amazon S3. Tear down the experiment server."
      ],
      "metadata": {}
    },
    {
      "cell_type": "markdown",
      "source": [
        "## Step 10: Return.\n",
        "\nFinally, the function returns the collected data."
      ],
      "metadata": {}
    }
  ],
  "metadata": {
    "kernelspec": {
      "name": "python2",
      "language": "python",
      "display_name": "Python 2"
    },
    "kernel_info": {
      "name": "python2"
    },
    "language_info": {
      "mimetype": "text/x-python",
      "nbconvert_exporter": "python",
      "name": "python",
      "pygments_lexer": "ipython2",
      "version": "2.7.13",
      "file_extension": ".py",
      "codemirror_mode": {
        "version": 2,
        "name": "ipython"
      }
    }
  },
  "nbformat": 4,
  "nbformat_minor": 4
}