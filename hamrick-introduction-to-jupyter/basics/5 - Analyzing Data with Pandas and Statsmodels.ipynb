{
 "cells": [
  {
   "cell_type": "markdown",
   "metadata": {},
   "source": [
    "# Analyzing Data with Pandas and Statsmodels"
   ]
  },
  {
   "cell_type": "markdown",
   "metadata": {},
   "source": [
    "In this section of the tutorial, we will go through common ways to use Pandas and statsmodels to analyze data. The dataset we'll be analyzing comes from first experiment in the following paper:\n",
    "\n",
    "Hamrick, J. B., Smith, K. A., Griffiths, T. L., & Vul, E. (2015). Think again? The amount of mental simulation tracks uncertainty in the outcome. In Proceedings of the 37th Annual Conference of the Cognitive Science Society. Austin, TX.\n",
    "\n",
    "In this experiment, participants looked at a ball bouncing around in a box, and had to determine whether that ball would go through a hole in the wall or not:\n",
    "\n",
    "![](images/experiment.png)"
   ]
  },
  {
   "cell_type": "markdown",
   "metadata": {},
   "source": [
    "---"
   ]
  },
  {
   "cell_type": "code",
   "execution_count": 1,
   "metadata": {},
   "outputs": [],
   "source": [
    "%matplotlib inline\n",
    "import pandas as pd\n",
    "import matplotlib.pyplot as plt\n",
    "import numpy as np\n",
    "import scipy.stats\n",
    "import statsmodels.api as sm\n",
    "import statsmodels.formula.api as smf"
   ]
  },
  {
   "cell_type": "markdown",
   "metadata": {},
   "source": [
    "First, let's read in the data:"
   ]
  },
  {
   "cell_type": "code",
   "execution_count": 2,
   "metadata": {},
   "outputs": [
    {
     "data": {
      "text/html": [
       "<div>\n",
       "<style scoped>\n",
       "    .dataframe tbody tr th:only-of-type {\n",
       "        vertical-align: middle;\n",
       "    }\n",
       "\n",
       "    .dataframe tbody tr th {\n",
       "        vertical-align: top;\n",
       "    }\n",
       "\n",
       "    .dataframe thead th {\n",
       "        text-align: right;\n",
       "    }\n",
       "</style>\n",
       "<table border=\"1\" class=\"dataframe\">\n",
       "  <thead>\n",
       "    <tr style=\"text-align: right;\">\n",
       "      <th></th>\n",
       "      <th>pid</th>\n",
       "      <th>stim</th>\n",
       "      <th>hole_width</th>\n",
       "      <th>hole_class</th>\n",
       "      <th>condition</th>\n",
       "      <th>trial</th>\n",
       "      <th>goes_in</th>\n",
       "      <th>num_bounces</th>\n",
       "      <th>response</th>\n",
       "      <th>rt</th>\n",
       "    </tr>\n",
       "  </thead>\n",
       "  <tbody>\n",
       "    <tr>\n",
       "      <th>0</th>\n",
       "      <td>0095f15b</td>\n",
       "      <td>B_0_0</td>\n",
       "      <td>200</td>\n",
       "      <td>far miss</td>\n",
       "      <td>7</td>\n",
       "      <td>26</td>\n",
       "      <td>False</td>\n",
       "      <td>0</td>\n",
       "      <td>False</td>\n",
       "      <td>1.439</td>\n",
       "    </tr>\n",
       "    <tr>\n",
       "      <th>1</th>\n",
       "      <td>0095f15b</td>\n",
       "      <td>B_0_1</td>\n",
       "      <td>100</td>\n",
       "      <td>far in</td>\n",
       "      <td>7</td>\n",
       "      <td>45</td>\n",
       "      <td>True</td>\n",
       "      <td>0</td>\n",
       "      <td>False</td>\n",
       "      <td>4.384</td>\n",
       "    </tr>\n",
       "    <tr>\n",
       "      <th>2</th>\n",
       "      <td>0095f15b</td>\n",
       "      <td>B_0_10</td>\n",
       "      <td>200</td>\n",
       "      <td>far in</td>\n",
       "      <td>7</td>\n",
       "      <td>24</td>\n",
       "      <td>True</td>\n",
       "      <td>0</td>\n",
       "      <td>True</td>\n",
       "      <td>1.523</td>\n",
       "    </tr>\n",
       "    <tr>\n",
       "      <th>3</th>\n",
       "      <td>0095f15b</td>\n",
       "      <td>B_0_11</td>\n",
       "      <td>100</td>\n",
       "      <td>close in</td>\n",
       "      <td>7</td>\n",
       "      <td>41</td>\n",
       "      <td>True</td>\n",
       "      <td>0</td>\n",
       "      <td>True</td>\n",
       "      <td>1.492</td>\n",
       "    </tr>\n",
       "    <tr>\n",
       "      <th>4</th>\n",
       "      <td>0095f15b</td>\n",
       "      <td>B_0_12</td>\n",
       "      <td>200</td>\n",
       "      <td>close in</td>\n",
       "      <td>7</td>\n",
       "      <td>33</td>\n",
       "      <td>True</td>\n",
       "      <td>0</td>\n",
       "      <td>True</td>\n",
       "      <td>3.008</td>\n",
       "    </tr>\n",
       "  </tbody>\n",
       "</table>\n",
       "</div>"
      ],
      "text/plain": [
       "        pid    stim  hole_width hole_class  condition  trial  goes_in  \\\n",
       "0  0095f15b   B_0_0         200   far miss          7     26    False   \n",
       "1  0095f15b   B_0_1         100     far in          7     45     True   \n",
       "2  0095f15b  B_0_10         200     far in          7     24     True   \n",
       "3  0095f15b  B_0_11         100   close in          7     41     True   \n",
       "4  0095f15b  B_0_12         200   close in          7     33     True   \n",
       "\n",
       "   num_bounces  response     rt  \n",
       "0            0     False  1.439  \n",
       "1            0     False  4.384  \n",
       "2            0      True  1.523  \n",
       "3            0      True  1.492  \n",
       "4            0      True  3.008  "
      ]
     },
     "execution_count": 2,
     "metadata": {},
     "output_type": "execute_result"
    }
   ],
   "source": [
    "data = pd.read_csv(\"data/ball.csv\")\n",
    "data.head()"
   ]
  },
  {
   "cell_type": "markdown",
   "metadata": {},
   "source": [
    "The stimuli in this dataset vary based on the number of times the ball bounces, the margin by which it does or does not go in the hole, and the size of the hole itself. There are 48 initial starting trajectories for the ball (reflected by the `\"stim\"` column), four different ways the ball can go in or miss the hole (reflected by the `\"hole_class\"` column), and two hole sizes (reflected by the `\"hole_width\"` column)."
   ]
  },
  {
   "cell_type": "markdown",
   "metadata": {},
   "source": [
    "## Querying"
   ]
  },
  {
   "cell_type": "markdown",
   "metadata": {},
   "source": [
    "We can extract different types of judgments using the `.query()` method of a DataFrame, for example to pull out judgments only for trials in which the ball went in the hole:"
   ]
  },
  {
   "cell_type": "code",
   "execution_count": 3,
   "metadata": {},
   "outputs": [
    {
     "data": {
      "text/html": [
       "<div>\n",
       "<style scoped>\n",
       "    .dataframe tbody tr th:only-of-type {\n",
       "        vertical-align: middle;\n",
       "    }\n",
       "\n",
       "    .dataframe tbody tr th {\n",
       "        vertical-align: top;\n",
       "    }\n",
       "\n",
       "    .dataframe thead th {\n",
       "        text-align: right;\n",
       "    }\n",
       "</style>\n",
       "<table border=\"1\" class=\"dataframe\">\n",
       "  <thead>\n",
       "    <tr style=\"text-align: right;\">\n",
       "      <th></th>\n",
       "      <th>pid</th>\n",
       "      <th>stim</th>\n",
       "      <th>hole_width</th>\n",
       "      <th>hole_class</th>\n",
       "      <th>condition</th>\n",
       "      <th>trial</th>\n",
       "      <th>goes_in</th>\n",
       "      <th>num_bounces</th>\n",
       "      <th>response</th>\n",
       "      <th>rt</th>\n",
       "    </tr>\n",
       "  </thead>\n",
       "  <tbody>\n",
       "    <tr>\n",
       "      <th>1</th>\n",
       "      <td>0095f15b</td>\n",
       "      <td>B_0_1</td>\n",
       "      <td>100</td>\n",
       "      <td>far in</td>\n",
       "      <td>7</td>\n",
       "      <td>45</td>\n",
       "      <td>True</td>\n",
       "      <td>0</td>\n",
       "      <td>False</td>\n",
       "      <td>4.384</td>\n",
       "    </tr>\n",
       "    <tr>\n",
       "      <th>2</th>\n",
       "      <td>0095f15b</td>\n",
       "      <td>B_0_10</td>\n",
       "      <td>200</td>\n",
       "      <td>far in</td>\n",
       "      <td>7</td>\n",
       "      <td>24</td>\n",
       "      <td>True</td>\n",
       "      <td>0</td>\n",
       "      <td>True</td>\n",
       "      <td>1.523</td>\n",
       "    </tr>\n",
       "    <tr>\n",
       "      <th>3</th>\n",
       "      <td>0095f15b</td>\n",
       "      <td>B_0_11</td>\n",
       "      <td>100</td>\n",
       "      <td>close in</td>\n",
       "      <td>7</td>\n",
       "      <td>41</td>\n",
       "      <td>True</td>\n",
       "      <td>0</td>\n",
       "      <td>True</td>\n",
       "      <td>1.492</td>\n",
       "    </tr>\n",
       "    <tr>\n",
       "      <th>4</th>\n",
       "      <td>0095f15b</td>\n",
       "      <td>B_0_12</td>\n",
       "      <td>200</td>\n",
       "      <td>close in</td>\n",
       "      <td>7</td>\n",
       "      <td>33</td>\n",
       "      <td>True</td>\n",
       "      <td>0</td>\n",
       "      <td>True</td>\n",
       "      <td>3.008</td>\n",
       "    </tr>\n",
       "    <tr>\n",
       "      <th>8</th>\n",
       "      <td>0095f15b</td>\n",
       "      <td>B_0_2</td>\n",
       "      <td>200</td>\n",
       "      <td>far in</td>\n",
       "      <td>7</td>\n",
       "      <td>18</td>\n",
       "      <td>True</td>\n",
       "      <td>0</td>\n",
       "      <td>True</td>\n",
       "      <td>2.660</td>\n",
       "    </tr>\n",
       "  </tbody>\n",
       "</table>\n",
       "</div>"
      ],
      "text/plain": [
       "        pid    stim  hole_width hole_class  condition  trial  goes_in  \\\n",
       "1  0095f15b   B_0_1         100     far in          7     45     True   \n",
       "2  0095f15b  B_0_10         200     far in          7     24     True   \n",
       "3  0095f15b  B_0_11         100   close in          7     41     True   \n",
       "4  0095f15b  B_0_12         200   close in          7     33     True   \n",
       "8  0095f15b   B_0_2         200     far in          7     18     True   \n",
       "\n",
       "   num_bounces  response     rt  \n",
       "1            0     False  4.384  \n",
       "2            0      True  1.523  \n",
       "3            0      True  1.492  \n",
       "4            0      True  3.008  \n",
       "8            0      True  2.660  "
      ]
     },
     "execution_count": 3,
     "metadata": {},
     "output_type": "execute_result"
    }
   ],
   "source": [
    "goesin = data.query(\"goes_in == True\")\n",
    "goesin.head()"
   ]
  },
  {
   "cell_type": "markdown",
   "metadata": {},
   "source": [
    "Now that we have a DataFrame containing only the data on trials in which the ball went in the hole, we can easily visualize them using built-in Pandas plotting methods, such as `.hist()`. For example, to view the histogram of response times:"
   ]
  },
  {
   "cell_type": "code",
   "execution_count": 4,
   "metadata": {},
   "outputs": [
    {
     "data": {
      "text/plain": [
       "<matplotlib.axes._subplots.AxesSubplot at 0x1c24342128>"
      ]
     },
     "execution_count": 4,
     "metadata": {},
     "output_type": "execute_result"
    },
    {
     "data": {
      "image/png": "[encoded data removed]",
      "text/plain": [
       "<Figure size 432x288 with 1 Axes>"
      ]
     },
     "metadata": {
      "needs_background": "light"
     },
     "output_type": "display_data"
    }
   ],
   "source": [
    "goesin['rt'].hist(grid=False, bins=100)"
   ]
  },
  {
   "cell_type": "markdown",
   "metadata": {},
   "source": [
    "The $x$-axis has a really high limit here, suggesting we have some very large outliers:"
   ]
  },
  {
   "cell_type": "code",
   "execution_count": 5,
   "metadata": {},
   "outputs": [
    {
     "data": {
      "text/plain": [
       "72.247"
      ]
     },
     "execution_count": 5,
     "metadata": {},
     "output_type": "execute_result"
    }
   ],
   "source": [
    "goesin['rt'].max()"
   ]
  },
  {
   "cell_type": "markdown",
   "metadata": {},
   "source": [
    "Indeed. We can also use query to pull out only those response times that are within a certain range, such as the 99% interval centered around the median:"
   ]
  },
  {
   "cell_type": "code",
   "execution_count": 6,
   "metadata": {},
   "outputs": [
    {
     "data": {
      "text/plain": [
       "<matplotlib.axes._subplots.AxesSubplot at 0x1c24d08320>"
      ]
     },
     "execution_count": 6,
     "metadata": {},
     "output_type": "execute_result"
    },
    {
     "data": {
      "image/png": "[encoded data removed]",
      "text/plain": [
       "<Figure size 432x288 with 1 Axes>"
      ]
     },
     "metadata": {
      "needs_background": "light"
     },
     "output_type": "display_data"
    }
   ],
   "source": [
    "lo, hi = np.percentile(goesin[\"rt\"], [0.5, 99.5])\n",
    "data = data.query(\"rt > {} and rt < {}\".format(lo, hi))\n",
    "goesin = data.query(\"goes_in == True\")\n",
    "goesin['rt'].hist(grid=False, bins=100)"
   ]
  },
  {
   "cell_type": "markdown",
   "metadata": {},
   "source": [
    "### Exercise"
   ]
  },
  {
   "cell_type": "markdown",
   "metadata": {},
   "source": [
    "<div class=\"alert alert-success\">\n",
    "Using the query method, query for stimuli where the ball missed the hole by a small margin *and* bounced once, and then visualize the response times using a histogram.\n",
    "</div>"
   ]
  },
  {
   "cell_type": "code",
   "execution_count": 7,
   "metadata": {},
   "outputs": [],
   "source": [
    "# Your code here"
   ]
  },
  {
   "cell_type": "markdown",
   "metadata": {},
   "source": [
    "## Grouping"
   ]
  },
  {
   "cell_type": "markdown",
   "metadata": {},
   "source": [
    "It would be nice to look at not just histograms, but also response averages and standard deviations. This is very easy to do with the `.groupby()` operation of the DataFrame. This is a complex operation and can at times be confusing to understand, so I recommend reading throught he Pandas documentation on this concept: https://pandas.pydata.org/pandas-docs/stable/groupby.html\n",
    "\n",
    "The basic idea is to split the DataFrame apart into separate DataFrames, apply some operation, and then recombine them. So, we can take this procedure to (for example), split the `fall` DataFrame apart into separate DataFrames for each stimulus, compute the average response, and then recombine:"
   ]
  },
  {
   "cell_type": "code",
   "execution_count": 8,
   "metadata": {},
   "outputs": [
    {
     "data": {
      "text/plain": [
       "stim   hole_width  hole_class\n",
       "B_0_0  100         close in      0.925000\n",
       "                   close miss    0.150000\n",
       "                   far in        1.000000\n",
       "                   far miss      0.000000\n",
       "       200         close in      0.853659\n",
       "Name: response, dtype: float64"
      ]
     },
     "execution_count": 8,
     "metadata": {},
     "output_type": "execute_result"
    }
   ],
   "source": [
    "# groupby stimulus, hole width, and hole class, and then compute the mean of the 'response' column for each group\n",
    "mean_resp = data.groupby([\"stim\", \"hole_width\", \"hole_class\"])[\"response\"].mean()\n",
    "mean_resp.head()"
   ]
  },
  {
   "cell_type": "markdown",
   "metadata": {},
   "source": [
    "Note that in the above operation, I've passed a list to the groupby operation---this tells it to group by unique values in *multiple* columns, so that we get one group for each stimulus and mass ratio.\n",
    "\n",
    "Pandas comes with some built-in methods that can be applied to groups, like `.mean()`. But what if you wanted to use a function that wasn't predefined? We can easily do this using `.apply()`, which takes as an argument the function to execute. The following is equivalent to using `.mean()`:"
   ]
  },
  {
   "cell_type": "code",
   "execution_count": 9,
   "metadata": {},
   "outputs": [
    {
     "data": {
      "text/plain": [
       "stim   hole_width  hole_class\n",
       "B_0_0  100         close in      0.925000\n",
       "                   close miss    0.150000\n",
       "                   far in        1.000000\n",
       "                   far miss      0.000000\n",
       "       200         close in      0.853659\n",
       "Name: response, dtype: float64"
      ]
     },
     "execution_count": 9,
     "metadata": {},
     "output_type": "execute_result"
    }
   ],
   "source": [
    "data.groupby([\"stim\", \"hole_width\", \"hole_class\"])[\"response\"].apply(np.mean).head()"
   ]
  },
  {
   "cell_type": "markdown",
   "metadata": {},
   "source": [
    "We can provide any function which returns either a scalar (e.g., `np.mean`) or a Pandas `Series` object. The Series object is like a column of a DataFrame: it has labeled rows, but is only a single column. For example, we could write a function that returns a variety of statistics as a Series object:"
   ]
  },
  {
   "cell_type": "code",
   "execution_count": 10,
   "metadata": {},
   "outputs": [],
   "source": [
    "def calc_stats(group):\n",
    "    stats = pd.Series({\n",
    "        \"mean\": group.mean(),\n",
    "        \"median\": group.median(),\n",
    "        \"std\": group.std(),\n",
    "        \"sem\": scipy.stats.sem(group)\n",
    "    })\n",
    "    \n",
    "    # this is so the column in the resulting DataFrame,\n",
    "    # after using groupby, has a label\n",
    "    stats.index.name = \"statistic\"\n",
    "\n",
    "    return stats"
   ]
  },
  {
   "cell_type": "code",
   "execution_count": 11,
   "metadata": {},
   "outputs": [
    {
     "data": {
      "text/plain": [
       "stim   hole_width  hole_class  statistic\n",
       "B_0_0  100         close in    mean         0.925000\n",
       "                               median       1.000000\n",
       "                               std          0.266747\n",
       "                               sem          0.042176\n",
       "                   close miss  mean         0.150000\n",
       "Name: response, dtype: float64"
      ]
     },
     "execution_count": 11,
     "metadata": {},
     "output_type": "execute_result"
    }
   ],
   "source": [
    "resp_stats = data.groupby([\"stim\", \"hole_width\", \"hole_class\"])[\"response\"].apply(calc_stats)\n",
    "resp_stats.head()"
   ]
  },
  {
   "cell_type": "markdown",
   "metadata": {},
   "source": [
    "### Exercise"
   ]
  },
  {
   "cell_type": "markdown",
   "metadata": {},
   "source": [
    "<div class=\"alert alert-success\">\n",
    "Try grouping the `data` DataFrame by the number of bounces, the hole size, and the hole class, and then compute the mean **response time** of each of those groups.\n",
    "</div>"
   ]
  },
  {
   "cell_type": "code",
   "execution_count": 12,
   "metadata": {},
   "outputs": [],
   "source": [
    "# Your code here"
   ]
  },
  {
   "cell_type": "markdown",
   "metadata": {},
   "source": [
    "## Massaging DataFrames"
   ]
  },
  {
   "cell_type": "markdown",
   "metadata": {},
   "source": [
    "Coming back to our `resp_stats` object, let's say we want to pull out just the mean statistic. If we try doing this with `.query()`, as we saw before, we find it fails:"
   ]
  },
  {
   "cell_type": "code",
   "execution_count": 14,
   "metadata": {},
   "outputs": [
    {
     "data": {
      "text/html": [
       "<div>\n",
       "<style scoped>\n",
       "    .dataframe tbody tr th:only-of-type {\n",
       "        vertical-align: middle;\n",
       "    }\n",
       "\n",
       "    .dataframe tbody tr th {\n",
       "        vertical-align: top;\n",
       "    }\n",
       "\n",
       "    .dataframe thead th {\n",
       "        text-align: right;\n",
       "    }\n",
       "</style>\n",
       "<table border=\"1\" class=\"dataframe\">\n",
       "  <thead>\n",
       "    <tr style=\"text-align: right;\">\n",
       "      <th></th>\n",
       "      <th></th>\n",
       "      <th></th>\n",
       "      <th></th>\n",
       "      <th>response</th>\n",
       "    </tr>\n",
       "    <tr>\n",
       "      <th>stim</th>\n",
       "      <th>hole_width</th>\n",
       "      <th>hole_class</th>\n",
       "      <th>statistic</th>\n",
       "      <th></th>\n",
       "    </tr>\n",
       "  </thead>\n",
       "  <tbody>\n",
       "    <tr>\n",
       "      <th rowspan=\"8\" valign=\"top\">B_0_0</th>\n",
       "      <th rowspan=\"4\" valign=\"top\">100</th>\n",
       "      <th>close in</th>\n",
       "      <th>mean</th>\n",
       "      <td>0.925000</td>\n",
       "    </tr>\n",
       "    <tr>\n",
       "      <th>close miss</th>\n",
       "      <th>mean</th>\n",
       "      <td>0.150000</td>\n",
       "    </tr>\n",
       "    <tr>\n",
       "      <th>far in</th>\n",
       "      <th>mean</th>\n",
       "      <td>1.000000</td>\n",
       "    </tr>\n",
       "    <tr>\n",
       "      <th>far miss</th>\n",
       "      <th>mean</th>\n",
       "      <td>0.000000</td>\n",
       "    </tr>\n",
       "    <tr>\n",
       "      <th rowspan=\"4\" valign=\"top\">200</th>\n",
       "      <th>close in</th>\n",
       "      <th>mean</th>\n",
       "      <td>0.853659</td>\n",
       "    </tr>\n",
       "    <tr>\n",
       "      <th>close miss</th>\n",
       "      <th>mean</th>\n",
       "      <td>0.150000</td>\n",
       "    </tr>\n",
       "    <tr>\n",
       "      <th>far in</th>\n",
       "      <th>mean</th>\n",
       "      <td>1.000000</td>\n",
       "    </tr>\n",
       "    <tr>\n",
       "      <th>far miss</th>\n",
       "      <th>mean</th>\n",
       "      <td>0.000000</td>\n",
       "    </tr>\n",
       "    <tr>\n",
       "      <th rowspan=\"8\" valign=\"top\">B_0_1</th>\n",
       "      <th rowspan=\"4\" valign=\"top\">100</th>\n",
       "      <th>close in</th>\n",
       "      <th>mean</th>\n",
       "      <td>0.950000</td>\n",
       "    </tr>\n",
       "    <tr>\n",
       "      <th>close miss</th>\n",
       "      <th>mean</th>\n",
       "      <td>0.268293</td>\n",
       "    </tr>\n",
       "    <tr>\n",
       "      <th>far in</th>\n",
       "      <th>mean</th>\n",
       "      <td>0.769231</td>\n",
       "    </tr>\n",
       "    <tr>\n",
       "      <th>far miss</th>\n",
       "      <th>mean</th>\n",
       "      <td>0.075000</td>\n",
       "    </tr>\n",
       "    <tr>\n",
       "      <th rowspan=\"4\" valign=\"top\">200</th>\n",
       "      <th>close in</th>\n",
       "      <th>mean</th>\n",
       "      <td>0.973684</td>\n",
       "    </tr>\n",
       "    <tr>\n",
       "      <th>close miss</th>\n",
       "      <th>mean</th>\n",
       "      <td>0.666667</td>\n",
       "    </tr>\n",
       "    <tr>\n",
       "      <th>far in</th>\n",
       "      <th>mean</th>\n",
       "      <td>1.000000</td>\n",
       "    </tr>\n",
       "    <tr>\n",
       "      <th>far miss</th>\n",
       "      <th>mean</th>\n",
       "      <td>0.025641</td>\n",
       "    </tr>\n",
       "    <tr>\n",
       "      <th rowspan=\"8\" valign=\"top\">B_0_10</th>\n",
       "      <th rowspan=\"4\" valign=\"top\">100</th>\n",
       "      <th>close in</th>\n",
       "      <th>mean</th>\n",
       "      <td>0.950000</td>\n",
       "    </tr>\n",
       "    <tr>\n",
       "      <th>close miss</th>\n",
       "      <th>mean</th>\n",
       "      <td>0.657895</td>\n",
       "    </tr>\n",
       "    <tr>\n",
       "      <th>far in</th>\n",
       "      <th>mean</th>\n",
       "      <td>0.800000</td>\n",
       "    </tr>\n",
       "    <tr>\n",
       "      <th>far miss</th>\n",
       "      <th>mean</th>\n",
       "      <td>0.050000</td>\n",
       "    </tr>\n",
       "    <tr>\n",
       "      <th rowspan=\"4\" valign=\"top\">200</th>\n",
       "      <th>close in</th>\n",
       "      <th>mean</th>\n",
       "      <td>0.950000</td>\n",
       "    </tr>\n",
       "    <tr>\n",
       "      <th>close miss</th>\n",
       "      <th>mean</th>\n",
       "      <td>0.560976</td>\n",
       "    </tr>\n",
       "    <tr>\n",
       "      <th>far in</th>\n",
       "      <th>mean</th>\n",
       "      <td>1.000000</td>\n",
       "    </tr>\n",
       "    <tr>\n",
       "      <th>far miss</th>\n",
       "      <th>mean</th>\n",
       "      <td>0.000000</td>\n",
       "    </tr>\n",
       "    <tr>\n",
       "      <th rowspan=\"6\" valign=\"top\">B_0_11</th>\n",
       "      <th rowspan=\"4\" valign=\"top\">100</th>\n",
       "      <th>close in</th>\n",
       "      <th>mean</th>\n",
       "      <td>0.820513</td>\n",
       "    </tr>\n",
       "    <tr>\n",
       "      <th>close miss</th>\n",
       "      <th>mean</th>\n",
       "      <td>0.736842</td>\n",
       "    </tr>\n",
       "    <tr>\n",
       "      <th>far in</th>\n",
       "      <th>mean</th>\n",
       "      <td>0.769231</td>\n",
       "    </tr>\n",
       "    <tr>\n",
       "      <th>far miss</th>\n",
       "      <th>mean</th>\n",
       "      <td>0.025000</td>\n",
       "    </tr>\n",
       "    <tr>\n",
       "      <th rowspan=\"2\" valign=\"top\">200</th>\n",
       "      <th>close in</th>\n",
       "      <th>mean</th>\n",
       "      <td>0.925000</td>\n",
       "    </tr>\n",
       "    <tr>\n",
       "      <th>close miss</th>\n",
       "      <th>mean</th>\n",
       "      <td>0.564103</td>\n",
       "    </tr>\n",
       "    <tr>\n",
       "      <th>...</th>\n",
       "      <th>...</th>\n",
       "      <th>...</th>\n",
       "      <th>...</th>\n",
       "      <td>...</td>\n",
       "    </tr>\n",
       "    <tr>\n",
       "      <th rowspan=\"6\" valign=\"top\">B_2_6</th>\n",
       "      <th rowspan=\"2\" valign=\"top\">100</th>\n",
       "      <th>far in</th>\n",
       "      <th>mean</th>\n",
       "      <td>0.625000</td>\n",
       "    </tr>\n",
       "    <tr>\n",
       "      <th>far miss</th>\n",
       "      <th>mean</th>\n",
       "      <td>0.157895</td>\n",
       "    </tr>\n",
       "    <tr>\n",
       "      <th rowspan=\"4\" valign=\"top\">200</th>\n",
       "      <th>close in</th>\n",
       "      <th>mean</th>\n",
       "      <td>0.750000</td>\n",
       "    </tr>\n",
       "    <tr>\n",
       "      <th>close miss</th>\n",
       "      <th>mean</th>\n",
       "      <td>0.526316</td>\n",
       "    </tr>\n",
       "    <tr>\n",
       "      <th>far in</th>\n",
       "      <th>mean</th>\n",
       "      <td>0.804878</td>\n",
       "    </tr>\n",
       "    <tr>\n",
       "      <th>far miss</th>\n",
       "      <th>mean</th>\n",
       "      <td>0.350000</td>\n",
       "    </tr>\n",
       "    <tr>\n",
       "      <th rowspan=\"8\" valign=\"top\">B_2_7</th>\n",
       "      <th rowspan=\"4\" valign=\"top\">100</th>\n",
       "      <th>close in</th>\n",
       "      <th>mean</th>\n",
       "      <td>0.609756</td>\n",
       "    </tr>\n",
       "    <tr>\n",
       "      <th>close miss</th>\n",
       "      <th>mean</th>\n",
       "      <td>0.300000</td>\n",
       "    </tr>\n",
       "    <tr>\n",
       "      <th>far in</th>\n",
       "      <th>mean</th>\n",
       "      <td>0.743590</td>\n",
       "    </tr>\n",
       "    <tr>\n",
       "      <th>far miss</th>\n",
       "      <th>mean</th>\n",
       "      <td>0.205128</td>\n",
       "    </tr>\n",
       "    <tr>\n",
       "      <th rowspan=\"4\" valign=\"top\">200</th>\n",
       "      <th>close in</th>\n",
       "      <th>mean</th>\n",
       "      <td>0.589744</td>\n",
       "    </tr>\n",
       "    <tr>\n",
       "      <th>close miss</th>\n",
       "      <th>mean</th>\n",
       "      <td>0.375000</td>\n",
       "    </tr>\n",
       "    <tr>\n",
       "      <th>far in</th>\n",
       "      <th>mean</th>\n",
       "      <td>0.825000</td>\n",
       "    </tr>\n",
       "    <tr>\n",
       "      <th>far miss</th>\n",
       "      <th>mean</th>\n",
       "      <td>0.325000</td>\n",
       "    </tr>\n",
       "    <tr>\n",
       "      <th rowspan=\"8\" valign=\"top\">B_2_8</th>\n",
       "      <th rowspan=\"4\" valign=\"top\">100</th>\n",
       "      <th>close in</th>\n",
       "      <th>mean</th>\n",
       "      <td>0.550000</td>\n",
       "    </tr>\n",
       "    <tr>\n",
       "      <th>close miss</th>\n",
       "      <th>mean</th>\n",
       "      <td>0.500000</td>\n",
       "    </tr>\n",
       "    <tr>\n",
       "      <th>far in</th>\n",
       "      <th>mean</th>\n",
       "      <td>0.473684</td>\n",
       "    </tr>\n",
       "    <tr>\n",
       "      <th>far miss</th>\n",
       "      <th>mean</th>\n",
       "      <td>0.175000</td>\n",
       "    </tr>\n",
       "    <tr>\n",
       "      <th rowspan=\"4\" valign=\"top\">200</th>\n",
       "      <th>close in</th>\n",
       "      <th>mean</th>\n",
       "      <td>0.658537</td>\n",
       "    </tr>\n",
       "    <tr>\n",
       "      <th>close miss</th>\n",
       "      <th>mean</th>\n",
       "      <td>0.589744</td>\n",
       "    </tr>\n",
       "    <tr>\n",
       "      <th>far in</th>\n",
       "      <th>mean</th>\n",
       "      <td>0.825000</td>\n",
       "    </tr>\n",
       "    <tr>\n",
       "      <th>far miss</th>\n",
       "      <th>mean</th>\n",
       "      <td>0.230769</td>\n",
       "    </tr>\n",
       "    <tr>\n",
       "      <th rowspan=\"8\" valign=\"top\">B_2_9</th>\n",
       "      <th rowspan=\"4\" valign=\"top\">100</th>\n",
       "      <th>close in</th>\n",
       "      <th>mean</th>\n",
       "      <td>0.475000</td>\n",
       "    </tr>\n",
       "    <tr>\n",
       "      <th>close miss</th>\n",
       "      <th>mean</th>\n",
       "      <td>0.875000</td>\n",
       "    </tr>\n",
       "    <tr>\n",
       "      <th>far in</th>\n",
       "      <th>mean</th>\n",
       "      <td>0.692308</td>\n",
       "    </tr>\n",
       "    <tr>\n",
       "      <th>far miss</th>\n",
       "      <th>mean</th>\n",
       "      <td>0.175000</td>\n",
       "    </tr>\n",
       "    <tr>\n",
       "      <th rowspan=\"4\" valign=\"top\">200</th>\n",
       "      <th>close in</th>\n",
       "      <th>mean</th>\n",
       "      <td>0.600000</td>\n",
       "    </tr>\n",
       "    <tr>\n",
       "      <th>close miss</th>\n",
       "      <th>mean</th>\n",
       "      <td>0.512821</td>\n",
       "    </tr>\n",
       "    <tr>\n",
       "      <th>far in</th>\n",
       "      <th>mean</th>\n",
       "      <td>0.850000</td>\n",
       "    </tr>\n",
       "    <tr>\n",
       "      <th>far miss</th>\n",
       "      <th>mean</th>\n",
       "      <td>0.325000</td>\n",
       "    </tr>\n",
       "  </tbody>\n",
       "</table>\n",
       "<p>384 rows × 1 columns</p>\n",
       "</div>"
      ],
      "text/plain": [
       "                                        response\n",
       "stim   hole_width hole_class statistic          \n",
       "B_0_0  100        close in   mean       0.925000\n",
       "                  close miss mean       0.150000\n",
       "                  far in     mean       1.000000\n",
       "                  far miss   mean       0.000000\n",
       "       200        close in   mean       0.853659\n",
       "                  close miss mean       0.150000\n",
       "                  far in     mean       1.000000\n",
       "                  far miss   mean       0.000000\n",
       "B_0_1  100        close in   mean       0.950000\n",
       "                  close miss mean       0.268293\n",
       "                  far in     mean       0.769231\n",
       "                  far miss   mean       0.075000\n",
       "       200        close in   mean       0.973684\n",
       "                  close miss mean       0.666667\n",
       "                  far in     mean       1.000000\n",
       "                  far miss   mean       0.025641\n",
       "B_0_10 100        close in   mean       0.950000\n",
       "                  close miss mean       0.657895\n",
       "                  far in     mean       0.800000\n",
       "                  far miss   mean       0.050000\n",
       "       200        close in   mean       0.950000\n",
       "                  close miss mean       0.560976\n",
       "                  far in     mean       1.000000\n",
       "                  far miss   mean       0.000000\n",
       "B_0_11 100        close in   mean       0.820513\n",
       "                  close miss mean       0.736842\n",
       "                  far in     mean       0.769231\n",
       "                  far miss   mean       0.025000\n",
       "       200        close in   mean       0.925000\n",
       "                  close miss mean       0.564103\n",
       "...                                          ...\n",
       "B_2_6  100        far in     mean       0.625000\n",
       "                  far miss   mean       0.157895\n",
       "       200        close in   mean       0.750000\n",
       "                  close miss mean       0.526316\n",
       "                  far in     mean       0.804878\n",
       "                  far miss   mean       0.350000\n",
       "B_2_7  100        close in   mean       0.609756\n",
       "                  close miss mean       0.300000\n",
       "                  far in     mean       0.743590\n",
       "                  far miss   mean       0.205128\n",
       "       200        close in   mean       0.589744\n",
       "                  close miss mean       0.375000\n",
       "                  far in     mean       0.825000\n",
       "                  far miss   mean       0.325000\n",
       "B_2_8  100        close in   mean       0.550000\n",
       "                  close miss mean       0.500000\n",
       "                  far in     mean       0.473684\n",
       "                  far miss   mean       0.175000\n",
       "       200        close in   mean       0.658537\n",
       "                  close miss mean       0.589744\n",
       "                  far in     mean       0.825000\n",
       "                  far miss   mean       0.230769\n",
       "B_2_9  100        close in   mean       0.475000\n",
       "                  close miss mean       0.875000\n",
       "                  far in     mean       0.692308\n",
       "                  far miss   mean       0.175000\n",
       "       200        close in   mean       0.600000\n",
       "                  close miss mean       0.512821\n",
       "                  far in     mean       0.850000\n",
       "                  far miss   mean       0.325000\n",
       "\n",
       "[384 rows x 1 columns]"
      ]
     },
     "execution_count": 14,
     "metadata": {},
     "output_type": "execute_result"
    }
   ],
   "source": [
    "resp_stats_df = resp_stats.to_frame()\n",
    "resp_stats_df.query(\"statistic == 'mean'\")"
   ]
  },
  {
   "cell_type": "markdown",
   "metadata": {},
   "source": [
    "What gives? The issue is that `resp_stats` isn't a DataFrame---it's a Series object, which means it doesn't have any columns that we can query! There are two options we can use to turn it into a DataFrame."
   ]
  },
  {
   "cell_type": "markdown",
   "metadata": {},
   "source": [
    "### Converting Between Columns and Indicies"
   ]
  },
  {
   "cell_type": "markdown",
   "metadata": {},
   "source": [
    "The first option is to use the `.to_frame()` method:"
   ]
  },
  {
   "cell_type": "code",
   "execution_count": null,
   "metadata": {},
   "outputs": [],
   "source": [
    "resp_stats.to_frame(\"value\").head()"
   ]
  },
  {
   "cell_type": "markdown",
   "metadata": {},
   "source": [
    "This is now a DataFrame, but it still doesn't have a column for `\"statistic\"` -- that's part of the index. To turn columns in the index to real columns in the DataFrame, we can use the `.reset_index()` method:"
   ]
  },
  {
   "cell_type": "code",
   "execution_count": null,
   "metadata": {},
   "outputs": [],
   "source": [
    "resp_stats.to_frame(\"value\").reset_index().head()"
   ]
  },
  {
   "cell_type": "markdown",
   "metadata": {},
   "source": [
    "Now we can query for the mean:"
   ]
  },
  {
   "cell_type": "code",
   "execution_count": null,
   "metadata": {},
   "outputs": [],
   "source": [
    "resp_stats.to_frame(\"value\").reset_index().query(\"statistic == 'mean'\").head()"
   ]
  },
  {
   "cell_type": "markdown",
   "metadata": {},
   "source": [
    "And we can make columns part of the index again by using the `.set_index()` method:"
   ]
  },
  {
   "cell_type": "code",
   "execution_count": null,
   "metadata": {},
   "outputs": [],
   "source": [
    "resp_stats\\\n",
    "    .to_frame(\"value\")\\\n",
    "    .reset_index()\\\n",
    "    .query(\"statistic == 'mean'\")\\\n",
    "    .set_index([\"stim\", \"hole_width\", \"hole_class\"])\\\n",
    "    .head()"
   ]
  },
  {
   "cell_type": "markdown",
   "metadata": {},
   "source": [
    "Note that we don't really need to use `.set_index()` here again; I am showing it for demonstration purposes only---though it certainly does come in handy sometimes! If we really wanted to to what we had just done, it would be better to pass just the `\"statistic\"` column to `.reset_index()` in the first place:"
   ]
  },
  {
   "cell_type": "code",
   "execution_count": null,
   "metadata": {},
   "outputs": [],
   "source": [
    "resp_stats.to_frame(\"value\").reset_index(\"statistic\").query(\"statistic == 'mean'\").head()"
   ]
  },
  {
   "cell_type": "markdown",
   "metadata": {},
   "source": [
    "### Stacking, Unstacking, and Pivoting DataFrames"
   ]
  },
  {
   "cell_type": "markdown",
   "metadata": {},
   "source": [
    "The other option to isolate only the mean values is to \"unstack\" the `\"statistic\"` column. This converts it from a part of the index to a series of columns:"
   ]
  },
  {
   "cell_type": "code",
   "execution_count": null,
   "metadata": {},
   "outputs": [],
   "source": [
    "resp_stats.unstack(\"statistic\").head()"
   ]
  },
  {
   "cell_type": "markdown",
   "metadata": {},
   "source": [
    "From here, we can easily query the mean column by just indexing into the DataFrame:"
   ]
  },
  {
   "cell_type": "code",
   "execution_count": null,
   "metadata": {},
   "outputs": [],
   "source": [
    "resp_stats.unstack(\"statistic\")[\"mean\"].head()"
   ]
  },
  {
   "cell_type": "markdown",
   "metadata": {},
   "source": [
    "This method also makes it easy to select multiple columns at once:"
   ]
  },
  {
   "cell_type": "code",
   "execution_count": null,
   "metadata": {},
   "outputs": [],
   "source": [
    "resp_stats.unstack(\"statistic\")[[\"mean\", \"std\"]].head()"
   ]
  },
  {
   "cell_type": "markdown",
   "metadata": {},
   "source": [
    "And we can convert it back to a Series object using the `.stack()` method:"
   ]
  },
  {
   "cell_type": "code",
   "execution_count": null,
   "metadata": {},
   "outputs": [],
   "source": [
    "resp_stats.unstack(\"statistic\")[[\"mean\", \"std\"]].stack().head()"
   ]
  },
  {
   "cell_type": "markdown",
   "metadata": {},
   "source": [
    "## Computing Statistics with Statsmodels"
   ]
  },
  {
   "cell_type": "markdown",
   "metadata": {},
   "source": [
    "For basic statistic, the [statsmodels package](http://www.statsmodels.org/stable/index.html) is a great resource. It doesn't have quite the breadth of statistical functions available as are present in R, but for quick and easy linear modeling it can be quite useful.\n",
    "\n",
    "Let's take a look at whether people's response time varies as a function of the hole class and width. First, however, we'll compute log response times to work with, because response time is often very close to log-normally distributed:"
   ]
  },
  {
   "cell_type": "code",
   "execution_count": null,
   "metadata": {},
   "outputs": [],
   "source": [
    "# create a new column in `mass` that reflects whether responses are equal to the true answer\n",
    "data[\"log_rt\"] = np.log(data[\"rt\"])\n",
    "data.head()"
   ]
  },
  {
   "cell_type": "code",
   "execution_count": null,
   "metadata": {},
   "outputs": [],
   "source": [
    "data[\"log_rt\"].hist(grid=False, bins=100)"
   ]
  },
  {
   "cell_type": "markdown",
   "metadata": {},
   "source": [
    "We can see from the plot that the response times are almost, though not quite, normally distributed. A Q-Q plot will help us see this further:"
   ]
  },
  {
   "cell_type": "code",
   "execution_count": null,
   "metadata": {},
   "outputs": [],
   "source": [
    "from statsmodels.graphics.gofplots import qqplot\n",
    "qqplot(data[\"log_rt\"], line='45');"
   ]
  },
  {
   "cell_type": "markdown",
   "metadata": {},
   "source": [
    "Ok, now we are ready to try building our first model. We'll create a binomial GLM predicting accuracy as a function of the true ratio:"
   ]
  },
  {
   "cell_type": "code",
   "execution_count": null,
   "metadata": {},
   "outputs": [],
   "source": [
    "model = smf.ols(\"log_rt ~ hole_class * hole_width\", data=data).fit()\n",
    "model.summary()"
   ]
  },
  {
   "cell_type": "markdown",
   "metadata": {},
   "source": [
    "We can also compute an ANOVA:"
   ]
  },
  {
   "cell_type": "code",
   "execution_count": null,
   "metadata": {},
   "outputs": [],
   "source": [
    "from statsmodels.stats.api import anova_lm\n",
    "anova_lm(model)"
   ]
  },
  {
   "cell_type": "markdown",
   "metadata": {},
   "source": [
    "We can see from the results that both the hole size and the margin by which the ball does/does not go in the hole significantly affect response times, and that there is also an interaction between these variables.\n",
    "\n",
    "(Note: there is a major issue with this analysis, which is that it doesn't take into account the fact that we have multiple measures of each stimulus and multiple responses from each participant. A better analysis would be to use a mixed-effects model, but statsmodels unfortunately doesn't have good support for that.)"
   ]
  },
  {
   "cell_type": "markdown",
   "metadata": {},
   "source": [
    "### Exercise: Putting it all together!"
   ]
  },
  {
   "cell_type": "markdown",
   "metadata": {},
   "source": [
    "<div class=\"alert alert-success\">\n",
    "<ul>\n",
    "<li> Compute average log response times and responses for each stimulus, hole width, and hole class pair (averaging across participants).\n",
    "<li> Plot the relationship between average responses ($x$-axis) and average log response times ($y$-axis).\n",
    "<li> Use statsmodels to determine whether there is a relationship between average responses and average log response times. Is the relationship first order or second order?\n",
    "</ul>\n",
    "</div>"
   ]
  },
  {
   "cell_type": "markdown",
   "metadata": {},
   "source": [
    "* Hint #1: you can create a DataFrame out of series objects like so: `df = pd.DataFrame({\"col_a\": a, \"col_b\": b})`\n",
    "* Hint #2: to include a second-order factor in your linear model, you can use `I` like so: `I(varname ** 2)`"
   ]
  },
  {
   "cell_type": "code",
   "execution_count": null,
   "metadata": {},
   "outputs": [],
   "source": [
    "# Your code here"
   ]
  }
 ],
 "metadata": {
  "kernelspec": {
   "display_name": "Python 3",
   "language": "python",
   "name": "python3"
  },
  "language_info": {
   "codemirror_mode": {
    "name": "ipython",
    "version": 3
   },
   "file_extension": ".py",
   "mimetype": "text/x-python",
   "name": "python",
   "nbconvert_exporter": "python",
   "pygments_lexer": "ipython3",
   "version": "3.7.1"
  }
 },
 "nbformat": 4,
 "nbformat_minor": 2
}
