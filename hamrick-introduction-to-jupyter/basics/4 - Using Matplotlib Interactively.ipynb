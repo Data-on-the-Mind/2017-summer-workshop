{
 "cells": [
  {
   "cell_type": "markdown",
   "metadata": {},
   "source": [
    "# Using Matplotlib Interactively"
   ]
  },
  {
   "cell_type": "markdown",
   "metadata": {},
   "source": [
    "In the previous notebook, we explored how to display plots inline in the notebook. However, you may have noticed that the plots were *static*: once we created them, they were just an image and couldn't be changed without recreating the entire plot. This can be frustrating, particularly when dealing with 3D data, and additionally makes it harder to iterate on creating a plot.\n",
    "\n",
    "Luckily, Matplotlib also comes with an interactive version for the notebook. Remember the magic line we used before, `%matplotlib inline`? That specified to use the \"inline\", or static, backend for matplotlib. Rather than using inline, we can instead use the \"notebook\" backend:"
   ]
  },
  {
   "cell_type": "code",
   "execution_count": null,
   "metadata": {},
   "outputs": [],
   "source": [
    "# use the interactive notebook backend for matplotlib\n",
    "%matplotlib notebook\n",
    "\n",
    "import matplotlib.pyplot as plt\n",
    "import numpy as np\n",
    "import pandas as pd\n",
    "\n",
    "# allows us to create 3D plots\n",
    "from mpl_toolkits.mplot3d.axes3d import Axes3D\n",
    "\n",
    "# some helper functions\n",
    "from util import mds, generate_swiss_roll"
   ]
  },
  {
   "cell_type": "markdown",
   "metadata": {},
   "source": [
    "---"
   ]
  },
  {
   "cell_type": "markdown",
   "metadata": {},
   "source": [
    "## Creating a Plot On-The-Fly"
   ]
  },
  {
   "cell_type": "markdown",
   "metadata": {},
   "source": [
    "Let's revisit the color MDS example from the previous notebook:"
   ]
  },
  {
   "cell_type": "code",
   "execution_count": null,
   "metadata": {},
   "outputs": [],
   "source": [
    "# load in the color similarity data, and compute MDS on it\n",
    "colors = pd.read_csv(\"data/color_similarities.csv\")\n",
    "colors = mds(colors.pivot(\"wavelength1\", \"wavelength2\", \"rating\"))\n",
    "\n",
    "# also load in the mapping from wavelengths to RGBA\n",
    "rgba = pd.read_csv(\"data/color_rgba.csv\", index_col=\"wavelength\")"
   ]
  },
  {
   "cell_type": "markdown",
   "metadata": {},
   "source": [
    "Rather than using `plt.plot` to create a plot, what we are going to do going forward is to explicitly create an \"axis object\" using the `plt.subplots` command, and then create the plot on that axis object.\n",
    "\n",
    "When we first create the plot, it is empty. However, notice that there is now a row of buttons at the bottom, and that the $x$ and $y$ coordinates of the mouse change as we hover over the figure:"
   ]
  },
  {
   "cell_type": "code",
   "execution_count": null,
   "metadata": {},
   "outputs": [],
   "source": [
    "fig, ax = plt.subplots()"
   ]
  },
  {
   "cell_type": "markdown",
   "metadata": {},
   "source": [
    "We can now add whatever we want to this plot, on the fly! For example, to recreate our colored points:"
   ]
  },
  {
   "cell_type": "code",
   "execution_count": null,
   "metadata": {},
   "outputs": [],
   "source": [
    "ax.scatter(colors[\"x\"], colors[\"y\"], c=rgba)"
   ]
  },
  {
   "cell_type": "markdown",
   "metadata": {},
   "source": [
    "And now, to add labels:"
   ]
  },
  {
   "cell_type": "code",
   "execution_count": null,
   "metadata": {},
   "outputs": [],
   "source": [
    "for _, row in colors.iterrows():\n",
    "    ax.text(row[\"x\"] + 0.01, row[\"y\"] + 0.01, int(row[\"label\"]))"
   ]
  },
  {
   "cell_type": "markdown",
   "metadata": {},
   "source": [
    "Using Matplotlib in this way can be a little confusing, because the code that creates the plot actually comes *after* the plot itself. However, it can be very useful for interactively creating the plot and trying out new things on-the-fly, without having to recreate the whole thing. This also sets the stage for creating Matplotlib animations, which we'll revisit in later in the advanced section of this tutorial.\n",
    "\n",
    "In general, though, I encourage you to put all the code that generates the plot in the same cell (even when in interactive mode), so that it is easier to understand how the plot was created. For this plot, that would look like:"
   ]
  },
  {
   "cell_type": "code",
   "execution_count": null,
   "metadata": {},
   "outputs": [],
   "source": [
    "fig, ax = plt.subplots()\n",
    "ax.scatter(colors[\"x\"], colors[\"y\"], c=rgba)\n",
    "for _, row in colors.iterrows():\n",
    "    ax.text(row[\"x\"] + 0.01, row[\"y\"] + 0.01, int(row[\"label\"]))"
   ]
  },
  {
   "cell_type": "markdown",
   "metadata": {},
   "source": [
    "---"
   ]
  },
  {
   "cell_type": "markdown",
   "metadata": {},
   "source": [
    "## 3D Plots"
   ]
  },
  {
   "cell_type": "markdown",
   "metadata": {},
   "source": [
    "Another reason why it is useful to use interactive Matplotlib plots is that we can then pan and zoom and/or rotate them. This is particularly useful for 3D plots."
   ]
  },
  {
   "cell_type": "code",
   "execution_count": null,
   "metadata": {},
   "outputs": [],
   "source": [
    "X, C = generate_swiss_roll()\n",
    "X[:10]"
   ]
  },
  {
   "cell_type": "code",
   "execution_count": null,
   "metadata": {},
   "outputs": [],
   "source": [
    "fig, ax = plt.subplots(subplot_kw=dict(projection='3d'))\n",
    "ax.scatter(\n",
    "    X[:, 0], X[:, 1], X[:, 2], \n",
    "    c=C, \n",
    "    vmin=C.min(), \n",
    "    vmax=C.max())"
   ]
  },
  {
   "cell_type": "markdown",
   "metadata": {},
   "source": [
    "---"
   ]
  },
  {
   "cell_type": "markdown",
   "metadata": {},
   "source": [
    "## When to use `inline` vs. `notebook`?"
   ]
  },
  {
   "cell_type": "markdown",
   "metadata": {},
   "source": [
    "The interactive plots are wonderful, so why would you ever want to use `inline` rather than `notebook`? This is really a personal preference: you should spend time with both and see which one works better for what you want to do. I personally find `inline` to be easier to work with when generating figures for papers (which we'll come back to later as well!), and `notebook` to be easier when I want to look at my data interactively."
   ]
  }
 ],
 "metadata": {
  "kernelspec": {
   "display_name": "estes",
   "language": "python",
   "name": "estes"
  }
 },
 "nbformat": 4,
 "nbformat_minor": 2
}
