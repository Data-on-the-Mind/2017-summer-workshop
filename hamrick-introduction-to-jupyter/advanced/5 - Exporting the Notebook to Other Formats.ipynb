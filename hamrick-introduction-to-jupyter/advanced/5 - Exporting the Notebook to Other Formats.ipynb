{
 "cells": [
  {
   "cell_type": "markdown",
   "metadata": {},
   "source": [
    "# Exporting the Notebook to Other Formats"
   ]
  },
  {
   "cell_type": "markdown",
   "metadata": {},
   "source": [
    "One of the benefits of working within the notebook format is that the notebook can be converted to many other types of formats. This is beneficial for a number of reasons:\n",
    "\n",
    "1. If we want to start prototyping in the notebook, but eventually move to a Python script, we can export the notebook to Python rather than having to copy and paste.\n",
    "2. If we want to create a static version of the notebook (e.g., to email to colleagues), we can export the notebook to HTML or PDF (though, full disclosure, exporting to PDF can sometimes be finicky---so I prefer exporting to HTML).\n",
    "3. If we want to report on our findings via a blog post, we can export the notebook to Markdown or RST.\n",
    "\n",
    "Many export formats can be accessed through the notebook interface itself, by choosing **File$\\rightarrow$Download As** in the menu. We can also export to different formats by using the `jupyter nbconvert` command line tool. Using the command line tool also gives us more flexibility in terms of allowing us to specify different options and templates."
   ]
  },
  {
   "cell_type": "markdown",
   "metadata": {},
   "source": [
    "---"
   ]
  },
  {
   "cell_type": "markdown",
   "metadata": {},
   "source": [
    "## Converting to Python"
   ]
  },
  {
   "cell_type": "markdown",
   "metadata": {},
   "source": [
    "In general, the way to use nbconvert is:\n",
    "\n",
    "```bash\n",
    "jupyter nbconvert --to [file format] [name of notebook]\n",
    "```\n",
    "\n",
    "So, for example, to export to python:"
   ]
  },
  {
   "cell_type": "code",
   "execution_count": null,
   "metadata": {},
   "outputs": [],
   "source": [
    "%%bash\n",
    "\n",
    "jupyter nbconvert --to python \"1 - Reproducible Plots with Matplotlib.ipynb\""
   ]
  },
  {
   "cell_type": "markdown",
   "metadata": {},
   "source": [
    "We can now look at the resulting file here: [1 - Reproducible Plots with Matplotlib.py](1 - Reproducible Plots with Matplotlib.py)"
   ]
  },
  {
   "cell_type": "markdown",
   "metadata": {},
   "source": [
    "---"
   ]
  },
  {
   "cell_type": "markdown",
   "metadata": {},
   "source": [
    "## Converting to Standalone HTML"
   ]
  },
  {
   "cell_type": "markdown",
   "metadata": {},
   "source": [
    "Similarly, to convert to HTML we use `--to html`. We can also pass the `--execute` flag to have nbconvert first execute the notebook before converting it to HTML:"
   ]
  },
  {
   "cell_type": "code",
   "execution_count": null,
   "metadata": {},
   "outputs": [],
   "source": [
    "%%bash\n",
    "\n",
    "jupyter nbconvert --execute --to html \"1 - Reproducible Plots with Matplotlib.ipynb\""
   ]
  },
  {
   "cell_type": "markdown",
   "metadata": {},
   "source": [
    "[1 - Reproducible Plots with Matplotlib.html](1 - Reproducible Plots with Matplotlib.html)"
   ]
  },
  {
   "cell_type": "markdown",
   "metadata": {},
   "source": [
    "---"
   ]
  },
  {
   "cell_type": "markdown",
   "metadata": {},
   "source": [
    "## Converting to a Jekyll Blog Post"
   ]
  },
  {
   "cell_type": "markdown",
   "metadata": {},
   "source": [
    "Let's now take a look at a more complex example, in which we would like to convert a notebook into Markdown so that we can use it as the source for a blog post. For example, the \"reproducible plots with matplotlib\" notebook actually *is* the source for a blog post, which I created by using nbconvert to generate the relevant Markdown: http://www.jesshamrick.com/2016/04/13/reproducible-plots/\n",
    "\n",
    "I found this functionality especially useful not just for blog posts, but for keeping \"lab notebook\" notes while I was doing my quals. For several of the papers that I read for my quals, I implemented the model in the paper in a notebook, and then published the notebook as part of a larger set of quals notes. For example: http://jhamrick.github.io/quals/probabilistic%20models%20of%20perception/2015/11/09/Weiss2002-ipynb.html"
   ]
  },
  {
   "cell_type": "markdown",
   "metadata": {},
   "source": [
    "To convert to the specific Markdown format required by Jekyll, we need more sophisticated configuration options than what we can access on the command line. So, we'll create a configuration file for nbconvert:"
   ]
  },
  {
   "cell_type": "code",
   "execution_count": null,
   "metadata": {},
   "outputs": [],
   "source": [
    "%%file nbconvert_config.py\n",
    "\n",
    "\"\"\"\n",
    "Based on: http://mcwitt.github.io/2015/04/29/jekyll_blogging_with_ipython3/\n",
    "\"\"\"\n",
    "\n",
    "from urllib.parse import quote\n",
    "import os\n",
    "\n",
    "def path2url(path):\n",
    "    \"\"\"Turn a file path into a URL\"\"\"\n",
    "    parts = path.split(os.path.sep)\n",
    "    return '{{ site.baseurl }}/notebooks/' + '/'.join(quote(part) for part in parts)\n",
    "\n",
    "c = get_config()\n",
    "c.NbConvertApp.export_format = 'markdown'\n",
    "c.ExecutePreprocessor.enabled = True\n",
    "\n",
    "# use the JekyllPreprocessor\n",
    "c.Exporter.preprocessors = ['nbconvert_utils.JekyllPreprocessor']\n",
    "\n",
    "# use the nbconvert-jekyll-post template file\n",
    "c.MarkdownExporter.template_file = 'nbconvert-jekyll-post'\n",
    "c.MarkdownExporter.filters = {'path2url': path2url}"
   ]
  },
  {
   "cell_type": "markdown",
   "metadata": {},
   "source": [
    "First, this config file tells nbconvert to use the `JekyllPreprocessor` defined in the [nbconvert_utils.py](nbconvert_utils.py) file. This preprocessor parses out some metadata from the notebook, such as the title of the blog post and the date of publication.\n",
    "\n",
    "Second, the config tells nbconvert to use a custom template, located in [nbconvert-jekyll-post.tpl](nbconvert-jekyll-post.tpl). This template, among other things, inserts the Jekyll blog post header (which includes the title, tags, etc.) and ensures that code will be highlighted with Python syntax.\n",
    "\n",
    "To tell nbconvert to use this config file instead, we pass the `--config` option:"
   ]
  },
  {
   "cell_type": "code",
   "execution_count": null,
   "metadata": {},
   "outputs": [],
   "source": [
    "%%bash\n",
    "\n",
    "jupyter nbconvert --config=nbconvert_config.py \"1 - Reproducible Plots with Matplotlib.ipynb\""
   ]
  },
  {
   "cell_type": "markdown",
   "metadata": {},
   "source": [
    "Here are the results! [1 - Reproducible Plots with Matplotlib.md](1 - Reproducible Plots with Matplotlib.md)"
   ]
  }
 ],
 "metadata": {
  "kernelspec": {
   "display_name": "Python 3",
   "language": "python",
   "name": "python3"
  }
 },
 "nbformat": 4,
 "nbformat_minor": 2
}
