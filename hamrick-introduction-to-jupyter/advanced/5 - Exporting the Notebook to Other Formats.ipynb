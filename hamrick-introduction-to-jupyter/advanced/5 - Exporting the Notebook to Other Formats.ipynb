{
 "cells": [
  {
   "cell_type": "code",
   "execution_count": null,
   "metadata": {},
   "outputs": [],
   "source": []
  }
 ],
 "metadata": {
  "kernelspec": {
   "display_name": "estes",
   "language": "python",
   "name": "estes"
  }
 },
 "nbformat": 4,
 "nbformat_minor": 2
}
