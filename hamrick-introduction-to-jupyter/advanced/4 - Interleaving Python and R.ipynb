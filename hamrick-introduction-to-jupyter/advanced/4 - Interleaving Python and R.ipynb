{
 "cells": [
  {
   "cell_type": "markdown",
   "metadata": {},
   "source": [
    "# Interleaving Python and R"
   ]
  },
  {
   "cell_type": "markdown",
   "metadata": {},
   "source": [
    "Python is an excellent language for creating complex models, munging data, etc. But, the libraries avaliable for doing standard statistical analyses are somewhat lacking. Often, I like to do such analyses in R instead, and the \"R magic\" extension to IPython makes it incredibly easy to switch back and forth between Python and R."
   ]
  },
  {
   "cell_type": "code",
   "execution_count": null,
   "metadata": {},
   "outputs": [],
   "source": [
    "%matplotlib inline\n",
    "import pandas as pd\n",
    "import numpy as np"
   ]
  },
  {
   "cell_type": "markdown",
   "metadata": {},
   "source": [
    "---"
   ]
  },
  {
   "cell_type": "markdown",
   "metadata": {},
   "source": [
    "## Loading the R magic"
   ]
  },
  {
   "cell_type": "markdown",
   "metadata": {},
   "source": [
    "To use the R magic, we need to have installed the `rpy2` library. In the notebook where we want to use the R magic, we also need to import a few things. This is the most annoying part about using the R magic, in that there's a lot of lines of code to remember to include---and the order you run these imports matters! After having figured out the right incantation once, I always just copy and paste the following code whenever I want to use the R magic:"
   ]
  },
  {
   "cell_type": "code",
   "execution_count": null,
   "metadata": {},
   "outputs": [],
   "source": [
    "import rpy2\n",
    "\n",
    "# the following lines will allow us to convert between Pandas DataFrames and R DataFrames\n",
    "import rpy2.robjects as ro\n",
    "from rpy2.robjects import pandas2ri\n",
    "pandas2ri.activate()\n",
    "from rpy2.robjects.conversion import ri2py\n",
    "\n",
    "# this loads the R magic extension\n",
    "%load_ext rpy2.ipython"
   ]
  },
  {
   "cell_type": "markdown",
   "metadata": {},
   "source": [
    "Now, to actually use the R magic extension, we can create a cell with `%%R` at the top of it and then R code in the cell:"
   ]
  },
  {
   "cell_type": "code",
   "execution_count": null,
   "metadata": {},
   "outputs": [],
   "source": [
    "%%R\n",
    "\n",
    "x <- c(1, 2)\n",
    "y <- c(3, 4)\n",
    "x + y"
   ]
  },
  {
   "cell_type": "markdown",
   "metadata": {},
   "source": [
    "We can also use the \"line magic\" version, which allows us to use R inline with python code. This is particularly useful if we want to call an R function and return the value back to Python. The following code creates a vector in R, and then saves it to `arr`, which is a Python variable!"
   ]
  },
  {
   "cell_type": "code",
   "execution_count": null,
   "metadata": {},
   "outputs": [],
   "source": [
    "arr = %R c(1, 2, 3)\n",
    "arr"
   ]
  },
  {
   "cell_type": "markdown",
   "metadata": {},
   "source": [
    "---"
   ]
  },
  {
   "cell_type": "markdown",
   "metadata": {},
   "source": [
    "## Passing values to R"
   ]
  },
  {
   "cell_type": "markdown",
   "metadata": {},
   "source": [
    "We can pass Python variables to R, and R variables back to Python, within reason. In particular, we can almost always translate between Pandas DataFrames and R DataFrames. This makes it super easy to do data munging in Python, pass the DataFrame to R for analysis, and then get the results back in Python.\n",
    "\n",
    "Let's take another look at our bouncing ball dataset."
   ]
  },
  {
   "cell_type": "code",
   "execution_count": null,
   "metadata": {},
   "outputs": [],
   "source": [
    "data = pd.read_csv(\"data/ball.csv\")\n",
    "\n",
    "# filter out extreme response times\n",
    "lo, hi = np.percentile(data[\"rt\"], [0.5, 99.5])\n",
    "data = data.query(\"rt > {} and rt < {}\".format(lo, hi))\n",
    "\n",
    "data.head()"
   ]
  },
  {
   "cell_type": "markdown",
   "metadata": {},
   "source": [
    "Previously, we used statsmodels to do some basic analysis on this dataset. Now, let's do the same analysis in R instead! To pass in the DataFrame, we use the `-i` flag (for \"***i***nput\") when we invoke the R magic:"
   ]
  },
  {
   "cell_type": "code",
   "execution_count": null,
   "metadata": {},
   "outputs": [],
   "source": [
    "%%R -i data\n",
    "\n",
    "model <- lm(log(rt) ~ hole_class * hole_width, data=data)\n",
    "summary(model)"
   ]
  },
  {
   "cell_type": "markdown",
   "metadata": {},
   "source": [
    "After having run R code, the results stay around (just as with the Python kernel). So, we can reference the same model to do an ANOVA, for example:"
   ]
  },
  {
   "cell_type": "code",
   "execution_count": null,
   "metadata": {},
   "outputs": [],
   "source": [
    "%%R\n",
    "\n",
    "anova(model)"
   ]
  },
  {
   "cell_type": "markdown",
   "metadata": {},
   "source": [
    "---"
   ]
  },
  {
   "cell_type": "markdown",
   "metadata": {},
   "source": [
    "## Getting values out of R"
   ]
  },
  {
   "cell_type": "markdown",
   "metadata": {},
   "source": [
    "Let's say we want to now get the ANOVA results back into Python. Just as we used the `-i` flag before, we can also use the `-o` flag (for \"***o***utput\"):"
   ]
  },
  {
   "cell_type": "code",
   "execution_count": null,
   "metadata": {},
   "outputs": [],
   "source": [
    "%%R -o result\n",
    "\n",
    "result <- anova(model)"
   ]
  },
  {
   "cell_type": "markdown",
   "metadata": {},
   "source": [
    "When we inspect the `result` variable, we wee that it is an R object:"
   ]
  },
  {
   "cell_type": "code",
   "execution_count": null,
   "metadata": {},
   "outputs": [],
   "source": [
    "result"
   ]
  },
  {
   "cell_type": "markdown",
   "metadata": {},
   "source": [
    "That's not very useful. But, do not despair---this is where the `ri2py` function that we imported earlier comes in:"
   ]
  },
  {
   "cell_type": "code",
   "execution_count": null,
   "metadata": {},
   "outputs": [],
   "source": [
    "ri2py(result)"
   ]
  },
  {
   "cell_type": "markdown",
   "metadata": {},
   "source": [
    "---"
   ]
  },
  {
   "cell_type": "markdown",
   "metadata": {},
   "source": [
    "## Plotting with R"
   ]
  },
  {
   "cell_type": "markdown",
   "metadata": {},
   "source": [
    "I'm not going to go into detail on creating plots in R, except just to demonstrate that you can also create plots inline in the notebook with R, just like you can in Python! For example, to create a Q-Q plot like we did previously (but now in R):"
   ]
  },
  {
   "cell_type": "code",
   "execution_count": null,
   "metadata": {},
   "outputs": [],
   "source": [
    "%%R\n",
    "\n",
    "qqnorm(log(data$rt))"
   ]
  }
 ],
 "metadata": {
  "kernelspec": {
   "display_name": "Python 3",
   "language": "python",
   "name": "python3"
  }
 },
 "nbformat": 4,
 "nbformat_minor": 2
}
