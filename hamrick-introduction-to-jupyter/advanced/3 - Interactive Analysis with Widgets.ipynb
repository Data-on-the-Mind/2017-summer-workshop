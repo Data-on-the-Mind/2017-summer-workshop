{
 "cells": [
  {
   "cell_type": "markdown",
   "metadata": {},
   "source": [
    "# Interactive Analysis with Widgets"
   ]
  },
  {
   "cell_type": "markdown",
   "metadata": {},
   "source": [
    "One of the most useful features of the notebook when doing data analysis are \"widgets\", which allow you to create on-the-fly interfaces for interactively exploring your data and changing parameter values. You can use widgets to do a lot of things, but I find the most useful thing to do with them, by far, is to interactively update model parameters and visualize the results."
   ]
  },
  {
   "cell_type": "code",
   "execution_count": null,
   "metadata": {},
   "outputs": [],
   "source": [
    "%matplotlib notebook\n",
    "import matplotlib.pyplot as plt\n",
    "import numpy as np\n",
    "import scipy.stats\n",
    "import pandas as pd\n",
    "\n",
    "from ipywidgets import interact"
   ]
  },
  {
   "cell_type": "markdown",
   "metadata": {},
   "source": [
    "---"
   ]
  },
  {
   "cell_type": "markdown",
   "metadata": {},
   "source": [
    "## Basic Usage"
   ]
  },
  {
   "cell_type": "markdown",
   "metadata": {},
   "source": [
    "The basic idea behind using interactive widgets is to create a function that takes in the arguments you which to manipulate interactively, and which performs some computation. To take a trivial example, we can create an interactive widget that allows us to see what the value of $x^2$ is, as a function of $x$. The function might look like this:"
   ]
  },
  {
   "cell_type": "code",
   "execution_count": null,
   "metadata": {},
   "outputs": [],
   "source": [
    "def square(x):\n",
    "    return x ** 2"
   ]
  },
  {
   "cell_type": "markdown",
   "metadata": {},
   "source": [
    "Now, to turn this into an *interactive* function, we need to do two things.\n",
    "\n",
    "1. First, we need to specify the range of what $x$ can be. For our purposes, let's say $x$ can be between -10 and 10, and that we'll consider intervals of 0.1.\n",
    "2. Second, we need to actually create a widget out of this function.\n",
    "\n",
    "We can do both of these things using the `interact` function:"
   ]
  },
  {
   "cell_type": "code",
   "execution_count": null,
   "metadata": {},
   "outputs": [],
   "source": [
    "interact(square, x=(-10, 10, 0.1));"
   ]
  },
  {
   "cell_type": "markdown",
   "metadata": {},
   "source": [
    "Once you execute the above cell, you'll see a slider labeled with \"x\" and a number printed out beneath. Try changing the value of the slider and you'll see the number change!\n",
    "\n",
    "This is the basic idea behind widgets: create a function, and then pass it to the `interact` function along with the range of values for the function's arguments.\n",
    "\n",
    "We can also create widgets using the \"decorator\" version of `interact`, e.g.:"
   ]
  },
  {
   "cell_type": "code",
   "execution_count": null,
   "metadata": {},
   "outputs": [],
   "source": [
    "@interact(x=(-10, 10, 0.1))\n",
    "def square(x):\n",
    "    return x ** 2"
   ]
  },
  {
   "cell_type": "markdown",
   "metadata": {},
   "source": [
    "---"
   ]
  },
  {
   "cell_type": "markdown",
   "metadata": {},
   "source": [
    "## Exploring the PDF of a Random Variable"
   ]
  },
  {
   "cell_type": "markdown",
   "metadata": {},
   "source": [
    "We can use widgets to create much more interesting visualizations and interactive behavior. To take a more complex, yet still simple example, we can plot the PDF of a Gaussian (normal) distribution and explore what happens when we modify the parameters for mean and standard deviation. Here, we'll use the same ideas as we saw when we created animated plots using matplotlib."
   ]
  },
  {
   "cell_type": "code",
   "execution_count": null,
   "metadata": {},
   "outputs": [],
   "source": [
    "# set up the plot\n",
    "plt.close('all')\n",
    "fig, ax = plt.subplots()\n",
    "x = np.linspace(-4, 4, 1000)\n",
    "line, = ax.plot([], [])\n",
    "ax.set_xlim(-4, 4)\n",
    "ax.set_ylim(0, 2)\n",
    "    \n",
    "@interact(mu=(-2, 2, 0.01), sigma=(0.01, 2, 0.01))\n",
    "def plot_normal_distribution(mu, sigma):\n",
    "    y = scipy.stats.norm.pdf(x, mu, sigma)\n",
    "    line.set_xdata(x)\n",
    "    line.set_ydata(y)\n",
    "    ax.set_title(\"mu={}, sigma={}\".format(mu, sigma))\n",
    "    fig.canvas.draw()"
   ]
  },
  {
   "cell_type": "markdown",
   "metadata": {},
   "source": [
    "This receipe can be really useful, especially for exploring other types of distributions that you might not be so familiar with, such as the beta distribution, which is parameterized by $\\alpha$ and $\\beta$:"
   ]
  },
  {
   "cell_type": "code",
   "execution_count": null,
   "metadata": {},
   "outputs": [],
   "source": [
    "# set up the plot\n",
    "plt.close('all')\n",
    "fig, ax = plt.subplots()\n",
    "x = np.linspace(0, 1, 1000)\n",
    "line, = ax.plot([], [])\n",
    "ax.set_xlim(0, 1)\n",
    "ax.set_ylim(0, 10)\n",
    "    \n",
    "@interact(alpha=(0, 10, 0.1), beta=(0, 10, 0.1))\n",
    "def plot_beta_distribution(alpha, beta):\n",
    "    y = scipy.stats.beta.pdf(x, alpha, beta)\n",
    "    line.set_xdata(x)\n",
    "    line.set_ydata(y)\n",
    "    ax.set_title(\"alpha={}, beta={}\".format(alpha, beta))\n",
    "    fig.canvas.draw()"
   ]
  },
  {
   "cell_type": "markdown",
   "metadata": {},
   "source": [
    "---"
   ]
  },
  {
   "cell_type": "markdown",
   "metadata": {},
   "source": [
    "## More Complex Widgets"
   ]
  },
  {
   "cell_type": "markdown",
   "metadata": {},
   "source": [
    "We can create much more complex widgets than just ones with sliders. For example, let's consider again our bouncing ball experiment dataset:"
   ]
  },
  {
   "cell_type": "code",
   "execution_count": null,
   "metadata": {},
   "outputs": [],
   "source": [
    "data = pd.read_csv(\"data/ball.csv\")\n",
    "\n",
    "# filter out extreme response times\n",
    "lo, hi = np.percentile(data[\"rt\"], [0.5, 99.5])\n",
    "data = data.query(\"rt > {} and rt < {}\".format(lo, hi))\n",
    "\n",
    "data.head()"
   ]
  },
  {
   "cell_type": "markdown",
   "metadata": {},
   "source": [
    "We can get a better feel for how responses and response times vary as a function of the stimulus by creating an interactive widget to quickly flip through the different stimuli."
   ]
  },
  {
   "cell_type": "code",
   "execution_count": null,
   "metadata": {},
   "outputs": [],
   "source": [
    "plt.close('all')\n",
    "fig, (ax1, ax2) = plt.subplots(1, 2)\n",
    "\n",
    "@interact(stim=data[\"stim\"].unique(), hole_width=data[\"hole_width\"].unique(), hole_class=data[\"hole_class\"].unique())\n",
    "def plot(stim, hole_width, hole_class):\n",
    "    df = data.query(\"stim == '{}' and hole_width == {} and hole_class == '{}'\".format(stim, hole_width, hole_class))\n",
    "\n",
    "    # plot a histogram of responses\n",
    "    ax1.clear()\n",
    "    bins = [1 - df[\"response\"].mean(), df[\"response\"].mean()]\n",
    "    ax1.bar([0, 1], bins, edgecolor='w')\n",
    "    ax1.set_ylim(0, 1)\n",
    "    ax1.set_xticks([0, 1])\n",
    "    ax1.set_xticklabels([False, True])\n",
    "    ax1.set_title(\"Responses\")\n",
    "\n",
    "    # plot a histogram of log response times\n",
    "    ax2.clear()\n",
    "    ax2.hist(np.log(df[\"rt\"]), bins=20, range=[-3, 3], normed=True)\n",
    "    ax2.set_ylim(0, 1)\n",
    "    ax2.set_title(\"Log Response Times\")\n",
    "    \n",
    "    # fit a normal distribution to the log response times and plot it\n",
    "    x = np.linspace(-3, 3)\n",
    "    mu = np.log(df[\"rt\"]).mean()\n",
    "    std = np.log(df[\"rt\"]).std()\n",
    "    y = scipy.stats.norm.pdf(x, mu, std)\n",
    "    ax2.plot(x, y, 'k')"
   ]
  },
  {
   "cell_type": "markdown",
   "metadata": {},
   "source": [
    "If you do computational modeling work, this is also a great way to explore where your model is closely fitting your empirical data and where it is not: plot the two measures next to each other (or on top of each other) and then move through your stimuli interactively with widgets!"
   ]
  },
  {
   "cell_type": "markdown",
   "metadata": {},
   "source": [
    "---"
   ]
  },
  {
   "cell_type": "markdown",
   "metadata": {},
   "source": [
    "## Exercise"
   ]
  },
  {
   "cell_type": "markdown",
   "metadata": {},
   "source": [
    "<div class=\"alert alert-success\">\n",
    "Using the above widget as a template, create a widget that allows you to visualize the distribution of responses and response times for individual participants (rather than individual stimuli).\n",
    "</div>"
   ]
  },
  {
   "cell_type": "code",
   "execution_count": null,
   "metadata": {},
   "outputs": [],
   "source": [
    "# Your code here"
   ]
  }
 ],
 "metadata": {
  "kernelspec": {
   "display_name": "Python 3",
   "language": "python",
   "name": "python3"
  }
 },
 "nbformat": 4,
 "nbformat_minor": 2
}
