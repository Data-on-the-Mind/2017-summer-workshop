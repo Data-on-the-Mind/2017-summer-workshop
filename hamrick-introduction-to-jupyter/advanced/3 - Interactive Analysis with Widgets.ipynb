{
 "cells": [
  {
   "cell_type": "code",
   "execution_count": null,
   "metadata": {},
   "outputs": [],
   "source": [
    "import ipywidgets"
   ]
  }
 ],
 "metadata": {
  "kernelspec": {
   "display_name": "estes",
   "language": "python",
   "name": "estes"
  }
 },
 "nbformat": 4,
 "nbformat_minor": 2
}
