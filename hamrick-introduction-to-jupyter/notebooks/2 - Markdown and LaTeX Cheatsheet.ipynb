{
 "cells": [
  {
   "cell_type": "markdown",
   "metadata": {},
   "source": [
    "Unless otherwise specified, each part of this problem is worth 0.1 points, for a total of 2.75 points."
   ]
  },
  {
   "cell_type": "markdown",
   "metadata": {},
   "source": [
    "## Markdown"
   ]
  },
  {
   "cell_type": "markdown",
   "metadata": {},
   "source": [
    "As mentioned in the previous problem, Markdown is a special way of writing text in order to specify formatting, like whether text should be bold, italicized, etc.\n",
    "\n",
    "For the following few exercises, try to format the specified text using Markdown. You can use the following website as a reference: https://help.github.com/articles/markdown-basics\n",
    "\n",
    "- Hint #1: after editing the Markdown, you will need to run the cell so that the formatting appears.\n",
    "- Hint #2: try selecting *this* cell so you can see what the Markdown looks like when you're editing it. Remember to run the cell again to see what it looks like when it is formatted.\n",
    "\n",
    "Note that in this assignment, the formatted text and equations are actually images, so you cannot look at the cell in edit mode to see the answer. However, in future assignments, we will write all the instructions and equations in Markdown, so in the future you will always be able to look at the cell in edit mode to see how the formatting is done."
   ]
  },
  {
   "cell_type": "markdown",
   "metadata": {},
   "source": [
    "### Italics and Boldface"
   ]
  },
  {
   "cell_type": "markdown",
   "metadata": {},
   "source": [
    "<div class=\"alert alert-success\">\n",
    "Italicize the word \"Banana\", like this:\n",
    "</div>\n",
    "![](images/banana-italics.png)"
   ]
  },
  {
   "cell_type": "markdown",
   "metadata": {},
   "source": [
    "*Banana*"
   ]
  },
  {
   "cell_type": "markdown",
   "metadata": {},
   "source": [
    "<div class=\"alert alert-success\">\n",
    "Bold the word \"Orange\", like this:\n",
    "</div>\n",
    "![](images/orange-bold.png)"
   ]
  },
  {
   "cell_type": "markdown",
   "metadata": {},
   "source": [
    "**Orange**"
   ]
  },
  {
   "cell_type": "markdown",
   "metadata": {},
   "source": [
    "### Lists"
   ]
  },
  {
   "cell_type": "markdown",
   "metadata": {},
   "source": [
    "<div class=\"alert alert-success\">\n",
    "Make a bulleted list consisting of the words \"Apple\", \"Banana\", and \"Orange\", like this:\n",
    "</div>\n",
    "![](images/bulleted-list.png)"
   ]
  },
  {
   "cell_type": "markdown",
   "metadata": {},
   "source": [
    "- Apple\n",
    "- Banana\n",
    "- Orange"
   ]
  },
  {
   "cell_type": "markdown",
   "metadata": {},
   "source": [
    "<div class=\"alert alert-success\">\n",
    "Make a numbered list consisting of the words \"Strawberry\", \"Blueberry\", and \"Raspberry\", like this:\n",
    "</div>\n",
    "![](images/numbered-list.png)"
   ]
  },
  {
   "cell_type": "markdown",
   "metadata": {},
   "source": [
    "1. Strawberry\n",
    "2. Blueberry\n",
    "3. Raspberry"
   ]
  },
  {
   "cell_type": "markdown",
   "metadata": {},
   "source": [
    "<div class=\"alert alert-success\">\n",
    "Make the following list of lists:\n",
    "</div>\n",
    "![](images/list-of-lists.png)"
   ]
  },
  {
   "cell_type": "markdown",
   "metadata": {},
   "source": [
    "1. Fruits\n",
    "    * Apple\n",
    "    * Banana\n",
    "    * Orange\n",
    "2. Berries\n",
    "    * Strawberry\n",
    "    * Blueberry\n",
    "    * Raspberry"
   ]
  },
  {
   "cell_type": "markdown",
   "metadata": {},
   "source": [
    "## LaTeX Equations"
   ]
  },
  {
   "cell_type": "markdown",
   "metadata": {},
   "source": [
    "One of the advantages of using Markdown is that it allows us to easily write equations using LaTeX.\n",
    "\n",
    "The next few exercises will go over the basics of LaTeX equation formatting. You should be able to find all of the symbols you need on [this](http://web.ift.uib.no/Teori/KURS/WRK/TeX/symALL.html) page. Alternatively, if you forget the mathematical operation that a particular symbol corresponds to, check the [Wikipedia page](https://en.wikipedia.org/wiki/List_of_mathematical_symbols_by_subject) on mathematical notation."
   ]
  },
  {
   "cell_type": "markdown",
   "metadata": {},
   "source": [
    "### Basic equation formatting"
   ]
  },
  {
   "cell_type": "markdown",
   "metadata": {},
   "source": [
    "<div class=\"alert alert-success\">\n",
    "To format an equation using LaTeX, you must wrap the text in <b>dollar signs</b>, <code>$like this$</code>. Format \"y=ax+b\" to produce the following:\n",
    "</div>\n",
    "![](images/latex-basic-equation.png)"
   ]
  },
  {
   "cell_type": "markdown",
   "metadata": {},
   "source": [
    "$y=ax+b$"
   ]
  },
  {
   "cell_type": "markdown",
   "metadata": {},
   "source": [
    "### Subscripts and superscripts"
   ]
  },
  {
   "cell_type": "markdown",
   "metadata": {},
   "source": [
    "Many equations require the use of exponents or underscores. To include a superscript, use the `^` symbol, and for subscripts, use the `_` symbol.\n",
    "<div class=\"alert alert-success\">\n",
    "Format the following equation:\n",
    "</div>\n",
    "![](images/latex-subscripts-and-superscripts.png)"
   ]
  },
  {
   "cell_type": "markdown",
   "metadata": {},
   "source": [
    "$x_1^4 + x_2^3 + x_3^2 + x_4$"
   ]
  },
  {
   "cell_type": "markdown",
   "metadata": {},
   "source": [
    "Sometimes, we need to use exponents or underscores that require more than one character. Unfortunately, by default, the `^` or `_` symbols only apply to the *next* character. To tell them to apply to multiple characters, the exponent or subscript needs to be wrapped in curly braces.\n",
    "\n",
    "<div class=\"alert alert-success\">\n",
    "Format the following equation:\n",
    "</div>\n",
    "![](images/latex-curly-braces.png)"
   ]
  },
  {
   "cell_type": "markdown",
   "metadata": {},
   "source": [
    "$X_{ij}^{(1)}$"
   ]
  },
  {
   "cell_type": "markdown",
   "metadata": {},
   "source": [
    "### Greek letters"
   ]
  },
  {
   "cell_type": "markdown",
   "metadata": {},
   "source": [
    "We may ask you to use Greek variable names or letters in some of the assignments for this course. In general, greek letters can be formatted in LaTeX with `\\letter`, where \"letter\" is the name of the greek letter. For the lowercase version, use `\\letter`, and for the uppercase version, use `\\Letter`. For example, to format the greek letter \"delta\", you would do `\\delta` to produce $\\delta$ and `\\Delta` to produce $\\Delta$.\n",
    "\n",
    "<div class=\"alert alert-success\">\n",
    "Format the following equation, which uses several common greek variables (note: the only letters that are *not* greek are the numbers and the \"m\" and \"n\" subscripts).\n",
    "</div>\n",
    "\n",
    "![](images/latex-greek-variables.png)"
   ]
  },
  {
   "cell_type": "markdown",
   "metadata": {},
   "source": [
    "For reference, the greek letters used in this equation are called:\n",
    "![](images/latex-greek-variable-names.png)"
   ]
  },
  {
   "cell_type": "markdown",
   "metadata": {},
   "source": [
    "$\\alpha + 2\\beta - \\gamma^2 + \\theta_{mn} - (\\mu\\pi)^{\\sigma + \\lambda}$"
   ]
  },
  {
   "cell_type": "markdown",
   "metadata": {},
   "source": [
    "### Logarithm and exponential"
   ]
  },
  {
   "cell_type": "markdown",
   "metadata": {},
   "source": [
    "LaTeX has special commands for some common functions, such as logarithms of exponentials. For logarithms, the relevant command is `\\log{}`, and for exponentials, the relevant command is `\\exp{}`, where the expression inside the logarithm or exponential goes inside the curly braces.\n",
    "\n",
    "<div class=\"alert alert-success\">\n",
    "Format the following equation (you'll need to look up the appropriate symbol for the arrow yourself!)\n",
    "</div>\n",
    "![](images/latex-log-exp.png)"
   ]
  },
  {
   "cell_type": "markdown",
   "metadata": {},
   "source": [
    "$y=\\log{x} \\Leftrightarrow \\exp{y}=x$"
   ]
  },
  {
   "cell_type": "markdown",
   "metadata": {},
   "source": [
    "Similar to the logarithm and the exponential is the square root, which can be formatted using the `\\sqrt{}` command.\n",
    "\n",
    "<div class=\"alert alert-success\">\n",
    "Format the following equation:\n",
    "</div>\n",
    "![](images/latex-sqrt.png)"
   ]
  },
  {
   "cell_type": "markdown",
   "metadata": {},
   "source": [
    "$\\sqrt{(x-y)^2}$"
   ]
  },
  {
   "cell_type": "markdown",
   "metadata": {},
   "source": [
    "### Dots"
   ]
  },
  {
   "cell_type": "markdown",
   "metadata": {},
   "source": [
    "Many equations use dots, either to signify multiplication (or a dot product), or to indicate that the operation should be repeated. For a single dot, use `\\cdot{}`, and for multiple dots, use `\\ldots{}`.\n",
    "\n",
    "<div class=\"alert alert-success\">\n",
    "Format the following equation:\n",
    "</div>\n",
    "![](images/latex-dots.png)"
   ]
  },
  {
   "cell_type": "markdown",
   "metadata": {},
   "source": [
    "$x_1\\cdot{}x_2\\cdot{}\\ldots{}\\cdot{}x_n$"
   ]
  },
  {
   "cell_type": "markdown",
   "metadata": {},
   "source": [
    "### Fractions"
   ]
  },
  {
   "cell_type": "markdown",
   "metadata": {},
   "source": [
    "LaTeX can also render fractions using the `\\frac{}{}` command. The numerator goes in the first pair of curly brackets, and the denominator goes in the second pair of curly brackets.\n",
    "\n",
    "<div class=\"alert alert-success\">\n",
    "Format the following equation:\n",
    "</div>\n",
    "![](images/latex-fraction.png)"
   ]
  },
  {
   "cell_type": "markdown",
   "metadata": {},
   "source": [
    "$\\frac{\\alpha}{\\alpha+\\beta+\\gamma}$"
   ]
  },
  {
   "cell_type": "markdown",
   "metadata": {},
   "source": [
    "### Sums and products"
   ]
  },
  {
   "cell_type": "markdown",
   "metadata": {},
   "source": [
    "Sums and products across variables can be displayed using `\\sum` and `\\prod`. To get the variables above and below the sum or product symbols, you can use superscripts and subscripts.\n",
    "\n",
    "As a reminder, the large sum and product symbols mean the sum or product of a series of numbers or variables. Usually, the index variable along with its starting value is defined underneath the sum/product symbol (e.g. $i=1$), and its final value is given above the sum/product. For example, the following is a sum of all $x_i$ where $1\\leq i\\leq N$:\n",
    "\n",
    "![](images/latex-example-sum.png)\n",
    "\n",
    "and similarly, the following is a product of all $y_j$ where $1\\leq j\\leq M$:\n",
    "![](images/latex-example-product.png)"
   ]
  },
  {
   "cell_type": "markdown",
   "metadata": {},
   "source": [
    "<div class=\"alert alert-success\">\n",
    "Format the following equation using <b>double dollar signs</b> (instead of single dollar signs like above). This will always make the equation display on a new line, and will make symbols like sums and products look nicer.\n",
    "</div>\n",
    "![](images/latex-sum-product.png)"
   ]
  },
  {
   "cell_type": "markdown",
   "metadata": {},
   "source": [
    "$$\\sum_{i=1}^N \\prod_{j=1}^M x_{ij}$$"
   ]
  },
  {
   "cell_type": "markdown",
   "metadata": {},
   "source": [
    "### Integrals"
   ]
  },
  {
   "cell_type": "markdown",
   "metadata": {},
   "source": [
    "Displaying an integral is very similar to a sum or product. To do so, use the `\\int` command. The integral limits can be set using superscripts and subscripts."
   ]
  },
  {
   "cell_type": "markdown",
   "metadata": {},
   "source": [
    "<div class=\"alert alert-success\">\n",
    "Format the following equation (again using <b>double dollar signs</b>):\n",
    "</div>\n",
    "![](images/latex-integral.png)"
   ]
  },
  {
   "cell_type": "markdown",
   "metadata": {},
   "source": [
    "$$\\int_0^\\infty x^2 dx$$"
   ]
  },
  {
   "cell_type": "markdown",
   "metadata": {},
   "source": [
    "### Derivatives"
   ]
  },
  {
   "cell_type": "markdown",
   "metadata": {},
   "source": [
    "Derivatives can be displayed using fractions, in addition to the `\\partial` symbol, which looks like this: $\\partial$"
   ]
  },
  {
   "cell_type": "markdown",
   "metadata": {},
   "source": [
    "<div class=\"alert alert-success\">\n",
    "Format the following equation (using <b>single dollar signs</b>):\n",
    "</div>\n",
    "![](images/latex-derivative.png)"
   ]
  },
  {
   "cell_type": "markdown",
   "metadata": {},
   "source": [
    "$\\frac{\\partial y}{\\partial x}=2x-1$"
   ]
  },
  {
   "cell_type": "markdown",
   "metadata": {},
   "source": [
    "### Putting it all together (1.15 points)"
   ]
  },
  {
   "cell_type": "markdown",
   "metadata": {},
   "source": [
    "<div class=\"alert alert-success\">\n",
    "Format the following equation (using <b>double dollar signs</b>):\n",
    "</div>\n",
    "![](images/latex-challenge.png)"
   ]
  },
  {
   "cell_type": "markdown",
   "metadata": {},
   "source": [
    "$$F(y)=\\int_{-\\infty}^y \\frac{1}{\\sqrt{2\\pi\\sigma^2}}e^{\\frac{-(x-\\mu)^2}{2\\sigma^2}}dx$$"
   ]
  }
 ],
 "metadata": {
  "kernelspec": {
   "display_name": "estes",
   "language": "python",
   "name": "estes"
  }
 },
 "nbformat": 4,
 "nbformat_minor": 1
}
