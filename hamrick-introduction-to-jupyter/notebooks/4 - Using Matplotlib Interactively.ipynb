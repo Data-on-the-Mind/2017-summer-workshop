{
 "cells": [
  {
   "cell_type": "code",
   "execution_count": null,
   "metadata": {},
   "outputs": [],
   "source": [
    "%matplotlib notebook\n",
    "\n",
    "import matplotlib.pyplot as plt\n",
    "import numpy as np"
   ]
  }
 ],
 "metadata": {
  "kernelspec": {
   "display_name": "estes",
   "language": "python",
   "name": "estes"
  }
 },
 "nbformat": 4,
 "nbformat_minor": 2
}
