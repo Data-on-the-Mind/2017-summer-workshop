{
 "cells": [
  {
   "cell_type": "markdown",
   "metadata": {},
   "source": [
    "# Webscraping with Selenium\n",
    "*****\n",
    "When the data that you want exists on a website with heavy JavaScript and requires interaction from the user, `BeautifulSoup` will not be enough. This is when you need a webdriver. One of the most popular webdrivers is [Selenium](http://www.seleniumhq.org/projects/webdriver/). Selenium is commonly used in industry to automate testing of the user experience, but it can also interact with content to collect data that are difficult to get otherwise.\n",
    "\n",
    "This lesson is a short introduction to the Selenium webdriver. It includes:\n",
    "\n",
    "1. Launching the webdriver\n",
    "2. Navigating the browser\n",
    "3. Collecting generated data\n",
    "4. Exporting data to CSV\n",
    "\n",
    "Let's first import the necessary Python libraries:"
   ]
  },
  {
   "cell_type": "code",
   "execution_count": 1,
   "metadata": {
    "collapsed": true
   },
   "outputs": [],
   "source": [
    "from selenium import webdriver  # powers the browser interaction\n",
    "from selenium.webdriver.support.ui import Select  # selects menu options\n",
    "from pyvirtualdisplay import Display\n",
    "from selenium import webdriver\n",
    "from bs4 import BeautifulSoup  # to parse HTML\n",
    "import csv  # to write CSV\n",
    "import pandas  # to see CSV"
   ]
  },
  {
   "cell_type": "markdown",
   "metadata": {},
   "source": [
    "Selenium actually uses our web browser, and since the JupyterHub doesn't come with Firefox, we'll download the binaries:"
   ]
  },
  {
   "cell_type": "code",
   "execution_count": null,
   "metadata": {
    "collapsed": true
   },
   "outputs": [],
   "source": [
    "# download firefox binaries\n",
    "!wget http://ftp.mozilla.org/pub/firefox/releases/54.0/linux-x86_64/en-US/firefox-54.0.tar.bz2\n",
    "    \n",
    "# untar binaries\n",
    "!tar xvjf firefox-54.0.tar.bz2"
   ]
  },
  {
   "cell_type": "markdown",
   "metadata": {},
   "source": [
    "We also need the webdriver for Firefox that allows Selenium to interact directly with the browser through the code we write. We can download the `geckodriver` for Firefox from the github page:"
   ]
  },
  {
   "cell_type": "code",
   "execution_count": null,
   "metadata": {
    "collapsed": true
   },
   "outputs": [],
   "source": [
    "# download geckodriver\n",
    "!wget https://github.com/mozilla/geckodriver/releases/download/v0.17.0/geckodriver-v0.17.0-linux64.tar.gz\n",
    "    \n",
    "# untar geckdriver\n",
    "!tar xzvf geckodriver-v0.17.0-linux64.tar.gz"
   ]
  },
  {
   "cell_type": "markdown",
   "metadata": {},
   "source": [
    "# 1. Launching the webdriver"
   ]
  },
  {
   "cell_type": "markdown",
   "metadata": {},
   "source": [
    "Since we are in different environment and we can't use our regular graphical desktop, we need to tell Python to start a virutal display, onto which `Selenium` can project the Firefox web browser (though we won't actually see it)."
   ]
  },
  {
   "cell_type": "code",
   "execution_count": 3,
   "metadata": {},
   "outputs": [
    {
     "data": {
      "text/plain": [
       "<Display cmd_param=['Xvfb', '-br', '-nolisten', 'tcp', '-screen', '0', '1024x768x24', ':1001'] cmd=['Xvfb', '-br', '-nolisten', 'tcp', '-screen', '0', '1024x768x24', ':1001'] oserror=None return_code=None stdout=\"None\" stderr=\"None\" timeout_happened=False>"
      ]
     },
     "execution_count": 3,
     "metadata": {},
     "output_type": "execute_result"
    }
   ],
   "source": [
    "display = Display(visible=0, size=(1024, 768))\n",
    "display.start()"
   ]
  },
  {
   "cell_type": "markdown",
   "metadata": {},
   "source": [
    "Now we can initialize the `Selenium` web driver, giving it the path to the Firefox binary code and the driver:"
   ]
  },
  {
   "cell_type": "code",
   "execution_count": 4,
   "metadata": {},
   "outputs": [],
   "source": [
    "# setup driver\n",
    "!chmod -R +x firefox\n",
    "!chmod a+x geckodriver\n",
    "driver = webdriver.Firefox(firefox_binary='./firefox/firefox', executable_path=\"./geckodriver\")  # relative path where we just downloaded it"
   ]
  },
  {
   "cell_type": "markdown",
   "metadata": {},
   "source": [
    "You can navigate `Selenium` to a URL by using the `get` method, exactly the same way we used the `requests.get` before:"
   ]
  },
  {
   "cell_type": "code",
   "execution_count": 17,
   "metadata": {
    "collapsed": true
   },
   "outputs": [],
   "source": [
    "driver.get(\"http://www.google.com\")\n",
    "print(driver.page_source)"
   ]
  },
  {
   "cell_type": "markdown",
   "metadata": {},
   "source": [
    "Cool, right? You can see Google in your browser now. Let's go look at some [West Bengal State](http://wbsec.gov.in/) election results:"
   ]
  },
  {
   "cell_type": "markdown",
   "metadata": {},
   "source": [
    "# 2. Navigating the browser"
   ]
  },
  {
   "cell_type": "code",
   "execution_count": 18,
   "metadata": {
    "collapsed": true
   },
   "outputs": [],
   "source": [
    "# go results page\n",
    "driver.get(\"http://wbsec.gov.in/(S(eoxjutirydhdvx550untivvu))/DetailedResult/Detailed_gp_2013.aspx\")"
   ]
  },
  {
   "cell_type": "markdown",
   "metadata": {},
   "source": [
    "### Zilla Parishad"
   ]
  },
  {
   "cell_type": "markdown",
   "metadata": {},
   "source": [
    "Similar to `BeautifulSoup`, `Selenium` has methods to find elements on a webpage. We can use the method `find_element_by_name` to find an element on the page by its name."
   ]
  },
  {
   "cell_type": "code",
   "execution_count": 19,
   "metadata": {
    "collapsed": true
   },
   "outputs": [],
   "source": [
    "# find \"district\" drop down menu\n",
    "district = driver.find_element_by_name(\"ddldistrict\")"
   ]
  },
  {
   "cell_type": "code",
   "execution_count": 20,
   "metadata": {},
   "outputs": [
    {
     "data": {
      "text/plain": [
       "<selenium.webdriver.firefox.webelement.FirefoxWebElement (session=\"30c9b0c4-7418-4b87-9ef3-8b68c5c9407a\", element=\"4a2cfd07-2448-4d57-8a34-8bca9d03a66e\")>"
      ]
     },
     "execution_count": 20,
     "metadata": {},
     "output_type": "execute_result"
    }
   ],
   "source": [
    "district"
   ]
  },
  {
   "cell_type": "markdown",
   "metadata": {},
   "source": [
    "Now if we want to get the different options in this drop down, we can do the same. You'll notice that each name is associated with a unique value. Since we're getting multiple elements here, we'll use `find_elements_by_tag_name`"
   ]
  },
  {
   "cell_type": "code",
   "execution_count": 21,
   "metadata": {},
   "outputs": [
    {
     "name": "stdout",
     "output_type": "stream",
     "text": [
      "1\n",
      "Bankura\n"
     ]
    }
   ],
   "source": [
    "# find options in \"disrict\" drop down\n",
    "district_options = district.find_elements_by_tag_name(\"option\")\n",
    "\n",
    "print(district_options[1].get_attribute(\"value\"))\n",
    "print(district_options[1].text)"
   ]
  },
  {
   "cell_type": "markdown",
   "metadata": {},
   "source": [
    "Now we'll make a dictionary associating each name with its value."
   ]
  },
  {
   "cell_type": "code",
   "execution_count": 22,
   "metadata": {},
   "outputs": [
    {
     "name": "stdout",
     "output_type": "stream",
     "text": [
      "{'Kolkata-North': '20', 'Nadia': '13', 'Kolkata-South': '22', 'Jalpaiguri': '7', 'Purba Medinipur': '11', 'Alipurduar': '21', 'Bankura': '1', 'Birbhum': '3', 'Uttar Dinajpur': '18', 'Paschim Medinipur': '10', 'Purulia': '14', 'Cooch Behar': '8', 'Malda': '9', 'Hooghly': '6', 'Murshidabad': '12', 'Howrah': '5', 'Dakshin Dinajpur': '17', 'Darjeeling': '4', 'Burdwan': '2', 'Siliguri MP': '19', 'South 24-Parganas': '16', 'North 24-Parganas': '15'}\n"
     ]
    }
   ],
   "source": [
    "d_options = {option.text.strip(): option.get_attribute(\"value\") for option in district_options if option.get_attribute(\"value\").isdigit()}\n",
    "print(d_options)"
   ]
  },
  {
   "cell_type": "markdown",
   "metadata": {},
   "source": [
    "We can then select a district by using its name and our dictionary. First we'll make our own function using `Selenium`'s `Select`, and then we'll call it on \"Bankura\"."
   ]
  },
  {
   "cell_type": "code",
   "execution_count": 23,
   "metadata": {
    "collapsed": true
   },
   "outputs": [],
   "source": [
    "district_select = Select(district)\n",
    "district_select.select_by_value(d_options[\"Bankura\"])"
   ]
  },
  {
   "cell_type": "markdown",
   "metadata": {},
   "source": [
    "You should have seen the dropdown menu select 'Bankura' by running the previous cell."
   ]
  },
  {
   "cell_type": "markdown",
   "metadata": {},
   "source": [
    "### Panchayat Samity"
   ]
  },
  {
   "cell_type": "markdown",
   "metadata": {},
   "source": [
    "We can do the same as we did above to find the different blocks."
   ]
  },
  {
   "cell_type": "code",
   "execution_count": 24,
   "metadata": {
    "collapsed": true
   },
   "outputs": [],
   "source": [
    "# find the \"block\" drop down\n",
    "block = driver.find_element_by_name(\"ddlblock\")"
   ]
  },
  {
   "cell_type": "code",
   "execution_count": 25,
   "metadata": {},
   "outputs": [
    {
     "name": "stdout",
     "output_type": "stream",
     "text": [
      "1\n",
      "BANKURA-I\n"
     ]
    }
   ],
   "source": [
    "# get options\n",
    "block_options = block.find_elements_by_tag_name(\"option\")\n",
    "\n",
    "print(block_options[1].get_attribute(\"value\"))\n",
    "print(block_options[1].text)"
   ]
  },
  {
   "cell_type": "code",
   "execution_count": 26,
   "metadata": {},
   "outputs": [
    {
     "name": "stdout",
     "output_type": "stream",
     "text": [
      "{'TALDANGRA': '9', 'SIMLAPAL': '10', 'BARJORA': '7', 'BANKURA-II': '2', 'CHHATNA': '3', 'PATRASAYAR': '21', 'ONDA': '8', 'MEJHIA': '5', 'JOYPUR': '18', 'RANIBUNDH': '16', 'RAIPUR': '14', 'SALTORA': '4', 'SARENGA': '15', 'INDUS': '22', 'KOTULPUR': '19', 'GANGAJALGHATI': '6', 'KHATRA': '11', 'SONAMUKHI': '20', 'BANKURA-I': '1', 'HIRBUNDH': '12', 'BISHNUPUR': '17', 'INDPUR': '13'}\n"
     ]
    }
   ],
   "source": [
    "b_options = {option.text.strip(): option.get_attribute(\"value\") for option in block_options if option.get_attribute(\"value\").isdigit()}\n",
    "print(b_options)"
   ]
  },
  {
   "cell_type": "code",
   "execution_count": 27,
   "metadata": {
    "collapsed": true
   },
   "outputs": [],
   "source": [
    "block_select = Select(block)\n",
    "block_select.select_by_value(b_options[\"BANKURA-I\"])"
   ]
  },
  {
   "cell_type": "markdown",
   "metadata": {},
   "source": [
    "Great! One dropdown menu to go."
   ]
  },
  {
   "cell_type": "markdown",
   "metadata": {},
   "source": [
    "### Gram Panchayat"
   ]
  },
  {
   "cell_type": "code",
   "execution_count": 28,
   "metadata": {},
   "outputs": [
    {
     "name": "stdout",
     "output_type": "stream",
     "text": [
      "1\n",
      "ANCHURI\n"
     ]
    }
   ],
   "source": [
    "# get options\n",
    "gp = driver.find_element_by_name(\"ddlgp\")\n",
    "gp_options = gp.find_elements_by_tag_name(\"option\")\n",
    "\n",
    "print(gp_options[1].get_attribute(\"value\"))\n",
    "print(gp_options[1].text)"
   ]
  },
  {
   "cell_type": "code",
   "execution_count": 29,
   "metadata": {},
   "outputs": [
    {
     "name": "stdout",
     "output_type": "stream",
     "text": [
      "{'KALAPATHAR': '5', 'JAGADALLA-I': '3', 'ANDHARTHOLE': '2', 'JAGADALLA-II': '4', 'KENJAKURA': '6', 'ANCHURI': '1'}\n"
     ]
    }
   ],
   "source": [
    "gp_options = {option.text.strip(): option.get_attribute(\"value\") for option in gp_options if option.get_attribute(\"value\").isdigit()}\n",
    "print(gp_options)"
   ]
  },
  {
   "cell_type": "code",
   "execution_count": 30,
   "metadata": {
    "collapsed": true
   },
   "outputs": [],
   "source": [
    "gp_select = Select(gp)\n",
    "gp_select.select_by_value(gp_options[\"ANCHURI\"])"
   ]
  },
  {
   "cell_type": "markdown",
   "metadata": {},
   "source": [
    "Once we selected the last dropdown menu parameter, the website automatically generate a table below. This table could not have been called up by a URL, as you can see that the URL in the browser did not change. This is why `Selenium` is so helpful."
   ]
  },
  {
   "cell_type": "markdown",
   "metadata": {},
   "source": [
    "# 3. Collecting generated data"
   ]
  },
  {
   "cell_type": "markdown",
   "metadata": {},
   "source": [
    "Now that the table has been rendered, it exists as HTML in our page source. If we wanted to, we could send this to `BeautifulSoup` using the `driver.page_source` method to get the text. But we can also use `Selenium`'s parsing methods.\n",
    "\n",
    "First we'll identify it by its CSS selector, and then use the `get_attribute` method."
   ]
  },
  {
   "cell_type": "code",
   "execution_count": 31,
   "metadata": {
    "collapsed": true
   },
   "outputs": [],
   "source": [
    "soup = BeautifulSoup(driver.page_source, 'html5lib')"
   ]
  },
  {
   "cell_type": "code",
   "execution_count": 32,
   "metadata": {
    "collapsed": true
   },
   "outputs": [],
   "source": [
    "# get the html for the table\n",
    "table = soup.select('#DataGrid1')[0]"
   ]
  },
  {
   "cell_type": "markdown",
   "metadata": {},
   "source": [
    "First we'll get all the rows of the table using the `tr` selector."
   ]
  },
  {
   "cell_type": "code",
   "execution_count": 33,
   "metadata": {
    "collapsed": true
   },
   "outputs": [],
   "source": [
    "# get list of rows\n",
    "rows = [row for row in table.select(\"tr\")]"
   ]
  },
  {
   "cell_type": "markdown",
   "metadata": {},
   "source": [
    "But the first row is the header so we don't want that."
   ]
  },
  {
   "cell_type": "code",
   "execution_count": 34,
   "metadata": {
    "collapsed": true
   },
   "outputs": [],
   "source": [
    "rows = rows[1:]"
   ]
  },
  {
   "cell_type": "markdown",
   "metadata": {},
   "source": [
    "Each cell in the row corresponds to the data we want."
   ]
  },
  {
   "cell_type": "code",
   "execution_count": 35,
   "metadata": {},
   "outputs": [
    {
     "data": {
      "text/plain": [
       "[<td style=\"font-weight:bold;\">\n",
       "                         <span id=\"DataGrid1_ctl02_txtseat\">I/1</span>\n",
       "                         <br/>\n",
       "                         \n",
       "                         \n",
       "                         <span id=\"DataGrid1_ctl02_txtReserve\" style=\"color:#993366;\">WOMAN</span>\n",
       "                         </td>, <td>\n",
       "                         <span id=\"DataGrid1_ctl02_lblelectors\">830</span>\n",
       "                         </td>, <td>\n",
       "                         <span id=\"DataGrid1_ctl02_lblVPolled\">646</span>\n",
       "                         </td>, <td>\n",
       "                         <span id=\"DataGrid1_ctl02_lblVRejected\">19</span>\n",
       "                         </td>, <td>1</td>, <td>RITA CHATTOPADHYAY</td>, <td>IND</td>, <td>301</td>]"
      ]
     },
     "execution_count": 35,
     "metadata": {},
     "output_type": "execute_result"
    }
   ],
   "source": [
    "rows[0].select('td')"
   ]
  },
  {
   "cell_type": "markdown",
   "metadata": {},
   "source": [
    "Now it's just a matter of looping through the rows and getting the information we want from each one."
   ]
  },
  {
   "cell_type": "code",
   "execution_count": 36,
   "metadata": {
    "collapsed": true
   },
   "outputs": [],
   "source": [
    "data = []\n",
    "for row in rows:\n",
    "    d = {}\n",
    "    seat_names = row.select('td')[0].find_all(\"span\")\n",
    "    d['seat'] = ' '.join([x.text for x in seat_names])\n",
    "    d['electors'] = row.select('td')[1].text.strip()\n",
    "    d['polled'] = row.select('td')[2].text.strip()\n",
    "    d['rejected'] = row.select('td')[3].text.strip()\n",
    "    d['osn'] = row.select('td')[4].text.strip()\n",
    "    d['candidate'] = row.select('td')[5].text.strip()\n",
    "    d['party'] = row.select('td')[6].text.strip()\n",
    "    d['secured'] = row.select('td')[7].text.strip()\n",
    "    data.append(d)"
   ]
  },
  {
   "cell_type": "code",
   "execution_count": 37,
   "metadata": {},
   "outputs": [
    {
     "name": "stdout",
     "output_type": "stream",
     "text": [
      "{'osn': '2', 'party': 'BJP', 'candidate': 'RINA GHOSH', 'electors': '', 'rejected': '', 'secured': '57', 'seat': '', 'polled': ''}\n"
     ]
    }
   ],
   "source": [
    "print(data[1])"
   ]
  },
  {
   "cell_type": "markdown",
   "metadata": {},
   "source": [
    "You'll notice that some of the information, such as total electors, is not supplied for each canddiate. This code will add that information for the candidates who don't have it."
   ]
  },
  {
   "cell_type": "code",
   "execution_count": 38,
   "metadata": {
    "collapsed": true
   },
   "outputs": [],
   "source": [
    "i = 0\n",
    "while i < len(data):\n",
    "    if data[i]['seat']:\n",
    "        seat = data[i]['seat']\n",
    "        electors = data[i]['electors']\n",
    "        polled = data[i]['polled']\n",
    "        rejected = data[i]['rejected']\n",
    "        i = i+1\n",
    "    else:\n",
    "        data[i]['seat'] = seat\n",
    "        data[i]['electors'] = electors\n",
    "        data[i]['polled'] = polled\n",
    "        data[i]['rejected'] = rejected\n",
    "        i = i+1"
   ]
  },
  {
   "cell_type": "code",
   "execution_count": 39,
   "metadata": {},
   "outputs": [
    {
     "data": {
      "text/plain": [
       "[{'candidate': 'RITA CHATTOPADHYAY',\n",
       "  'electors': '830',\n",
       "  'osn': '1',\n",
       "  'party': 'IND',\n",
       "  'polled': '646',\n",
       "  'rejected': '19',\n",
       "  'seat': 'I/1 WOMAN',\n",
       "  'secured': '301'},\n",
       " {'candidate': 'RINA GHOSH',\n",
       "  'electors': '830',\n",
       "  'osn': '2',\n",
       "  'party': 'BJP',\n",
       "  'polled': '646',\n",
       "  'rejected': '19',\n",
       "  'seat': 'I/1 WOMAN',\n",
       "  'secured': '57'},\n",
       " {'candidate': 'RINA PATRA',\n",
       "  'electors': '830',\n",
       "  'osn': '3',\n",
       "  'party': 'AIFB',\n",
       "  'polled': '646',\n",
       "  'rejected': '19',\n",
       "  'seat': 'I/1 WOMAN',\n",
       "  'secured': '269'},\n",
       " {'candidate': 'ANIMA BAURI',\n",
       "  'electors': '659',\n",
       "  'osn': '1',\n",
       "  'party': 'AITC',\n",
       "  'polled': '528',\n",
       "  'rejected': '39',\n",
       "  'seat': 'II/2 SC WOMAN',\n",
       "  'secured': '210'},\n",
       " {'candidate': 'APARNA MANDAL',\n",
       "  'electors': '659',\n",
       "  'osn': '2',\n",
       "  'party': 'CPIM',\n",
       "  'polled': '528',\n",
       "  'rejected': '39',\n",
       "  'seat': 'II/2 SC WOMAN',\n",
       "  'secured': '279'},\n",
       " {'candidate': 'ABDUL MOTALEB MOLLA',\n",
       "  'electors': '1066',\n",
       "  'osn': '1',\n",
       "  'party': 'AITC',\n",
       "  'polled': '747',\n",
       "  'rejected': '17',\n",
       "  'seat': 'III/3 BC',\n",
       "  'secured': '437'},\n",
       " {'candidate': 'MOLLA ABDUL HANNAN',\n",
       "  'electors': '1066',\n",
       "  'osn': '2',\n",
       "  'party': 'CPIM',\n",
       "  'polled': '747',\n",
       "  'rejected': '17',\n",
       "  'seat': 'III/3 BC',\n",
       "  'secured': '293'},\n",
       " {'candidate': 'MANISHA BIBI',\n",
       "  'electors': '541',\n",
       "  'osn': '1',\n",
       "  'party': 'CPIM',\n",
       "  'polled': '415',\n",
       "  'rejected': '20',\n",
       "  'seat': 'IV/4 BCW',\n",
       "  'secured': '200'},\n",
       " {'candidate': 'RUMANA KHATUN HOSEN',\n",
       "  'electors': '541',\n",
       "  'osn': '2',\n",
       "  'party': 'AITC',\n",
       "  'polled': '415',\n",
       "  'rejected': '20',\n",
       "  'seat': 'IV/4 BCW',\n",
       "  'secured': '195'},\n",
       " {'candidate': 'EFTAKHARUL HAQUE MIDDYA',\n",
       "  'electors': '1275',\n",
       "  'osn': '1',\n",
       "  'party': 'IND',\n",
       "  'polled': '854',\n",
       "  'rejected': '24',\n",
       "  'seat': 'V/5 GENERAL',\n",
       "  'secured': '7'},\n",
       " {'candidate': 'MD. AMIR HOSSAIN',\n",
       "  'electors': '1275',\n",
       "  'osn': '2',\n",
       "  'party': 'IND',\n",
       "  'polled': '854',\n",
       "  'rejected': '24',\n",
       "  'seat': 'V/5 GENERAL',\n",
       "  'secured': '5'},\n",
       " {'candidate': 'MD. JAYNAL ABEDIN MOLLA',\n",
       "  'electors': '1275',\n",
       "  'osn': '3',\n",
       "  'party': 'AITC',\n",
       "  'polled': '854',\n",
       "  'rejected': '24',\n",
       "  'seat': 'V/5 GENERAL',\n",
       "  'secured': '522'},\n",
       " {'candidate': 'MD. MEHERULLA',\n",
       "  'electors': '1275',\n",
       "  'osn': '4',\n",
       "  'party': 'IND',\n",
       "  'polled': '854',\n",
       "  'rejected': '24',\n",
       "  'seat': 'V/5 GENERAL',\n",
       "  'secured': '6'},\n",
       " {'candidate': 'SK. SHAHAJAHAN ALI',\n",
       "  'electors': '1275',\n",
       "  'osn': '5',\n",
       "  'party': 'IND',\n",
       "  'polled': '854',\n",
       "  'rejected': '24',\n",
       "  'seat': 'V/5 GENERAL',\n",
       "  'secured': '290'},\n",
       " {'candidate': 'PARBATI GHOSHAL',\n",
       "  'electors': '1303',\n",
       "  'osn': '1',\n",
       "  'party': 'BJP',\n",
       "  'polled': '1114',\n",
       "  'rejected': '53',\n",
       "  'seat': 'VI/6 WOMAN',\n",
       "  'secured': '43'},\n",
       " {'candidate': 'BANI CHINA',\n",
       "  'electors': '1303',\n",
       "  'osn': '2',\n",
       "  'party': 'CPIM',\n",
       "  'polled': '1114',\n",
       "  'rejected': '53',\n",
       "  'seat': 'VI/6 WOMAN',\n",
       "  'secured': '616'},\n",
       " {'candidate': 'RINKU KAPRI',\n",
       "  'electors': '1303',\n",
       "  'osn': '3',\n",
       "  'party': 'AITC',\n",
       "  'polled': '1114',\n",
       "  'rejected': '53',\n",
       "  'seat': 'VI/6 WOMAN',\n",
       "  'secured': '402'},\n",
       " {'candidate': 'NIMAI KALINDI',\n",
       "  'electors': '834',\n",
       "  'osn': '1',\n",
       "  'party': 'BJP',\n",
       "  'polled': '662',\n",
       "  'rejected': '21',\n",
       "  'seat': 'VII/7 SC',\n",
       "  'secured': '134'},\n",
       " {'candidate': 'BHAJAN KALINDI',\n",
       "  'electors': '834',\n",
       "  'osn': '2',\n",
       "  'party': 'AITC',\n",
       "  'polled': '662',\n",
       "  'rejected': '21',\n",
       "  'seat': 'VII/7 SC',\n",
       "  'secured': '308'},\n",
       " {'candidate': 'SUNIL MALAKAR',\n",
       "  'electors': '834',\n",
       "  'osn': '3',\n",
       "  'party': 'CPIM',\n",
       "  'polled': '662',\n",
       "  'rejected': '21',\n",
       "  'seat': 'VII/7 SC',\n",
       "  'secured': '199'},\n",
       " {'candidate': 'DEBASHISH MUKHERJEE',\n",
       "  'electors': '525',\n",
       "  'osn': '1',\n",
       "  'party': 'BJP',\n",
       "  'polled': '443',\n",
       "  'rejected': '14',\n",
       "  'seat': 'VIII/8 GENERAL',\n",
       "  'secured': '101'},\n",
       " {'candidate': 'RANJIT SINGHA',\n",
       "  'electors': '525',\n",
       "  'osn': '2',\n",
       "  'party': 'AITC',\n",
       "  'polled': '443',\n",
       "  'rejected': '14',\n",
       "  'seat': 'VIII/8 GENERAL',\n",
       "  'secured': '209'},\n",
       " {'candidate': 'SWAPAN BANERJEE',\n",
       "  'electors': '525',\n",
       "  'osn': '3',\n",
       "  'party': 'CPIM',\n",
       "  'polled': '443',\n",
       "  'rejected': '14',\n",
       "  'seat': 'VIII/8 GENERAL',\n",
       "  'secured': '119'},\n",
       " {'candidate': 'ATHA BULA',\n",
       "  'electors': '975',\n",
       "  'osn': '1',\n",
       "  'party': 'CPIM',\n",
       "  'polled': '778',\n",
       "  'rejected': '47',\n",
       "  'seat': 'IX/9 WOMAN',\n",
       "  'secured': '345'},\n",
       " {'candidate': 'BANDANA CHINA',\n",
       "  'electors': '975',\n",
       "  'osn': '2',\n",
       "  'party': 'AITC',\n",
       "  'polled': '778',\n",
       "  'rejected': '47',\n",
       "  'seat': 'IX/9 WOMAN',\n",
       "  'secured': '386'},\n",
       " {'candidate': 'RANJIT KARAK',\n",
       "  'electors': '843',\n",
       "  'osn': '1',\n",
       "  'party': 'AITC',\n",
       "  'polled': '678',\n",
       "  'rejected': '57',\n",
       "  'seat': 'X/10 GENERAL',\n",
       "  'secured': '245'},\n",
       " {'candidate': 'SAMIR BAURI',\n",
       "  'electors': '843',\n",
       "  'osn': '2',\n",
       "  'party': 'CPIM',\n",
       "  'polled': '678',\n",
       "  'rejected': '57',\n",
       "  'seat': 'X/10 GENERAL',\n",
       "  'secured': '200'},\n",
       " {'candidate': 'SUJIT CHAKRABORTY',\n",
       "  'electors': '843',\n",
       "  'osn': '3',\n",
       "  'party': 'INC',\n",
       "  'polled': '678',\n",
       "  'rejected': '57',\n",
       "  'seat': 'X/10 GENERAL',\n",
       "  'secured': '176'},\n",
       " {'candidate': 'JHARNA DAS',\n",
       "  'electors': '670',\n",
       "  'osn': '1',\n",
       "  'party': 'AITC',\n",
       "  'polled': '535',\n",
       "  'rejected': '23',\n",
       "  'seat': 'XI/11 SC WOMAN',\n",
       "  'secured': '300'},\n",
       " {'candidate': 'RITA MAJUMDER',\n",
       "  'electors': '670',\n",
       "  'osn': '2',\n",
       "  'party': 'CPIM',\n",
       "  'polled': '535',\n",
       "  'rejected': '23',\n",
       "  'seat': 'XI/11 SC WOMAN',\n",
       "  'secured': '212'},\n",
       " {'candidate': 'MITHU SHIT',\n",
       "  'electors': '1181',\n",
       "  'osn': '1',\n",
       "  'party': 'AITC',\n",
       "  'polled': '935',\n",
       "  'rejected': '106',\n",
       "  'seat': 'XII/12 WOMAN',\n",
       "  'secured': '354'},\n",
       " {'candidate': 'SARAMA PAL',\n",
       "  'electors': '1181',\n",
       "  'osn': '2',\n",
       "  'party': 'BJP',\n",
       "  'polled': '935',\n",
       "  'rejected': '106',\n",
       "  'seat': 'XII/12 WOMAN',\n",
       "  'secured': '155'},\n",
       " {'candidate': 'SUSAMA  DHABAL',\n",
       "  'electors': '1181',\n",
       "  'osn': '3',\n",
       "  'party': 'CPI',\n",
       "  'polled': '935',\n",
       "  'rejected': '106',\n",
       "  'seat': 'XII/12 WOMAN',\n",
       "  'secured': '320'},\n",
       " {'candidate': 'DILIP BAGDI',\n",
       "  'electors': '1047',\n",
       "  'osn': '1',\n",
       "  'party': 'BJP',\n",
       "  'polled': '875',\n",
       "  'rejected': '19',\n",
       "  'seat': 'XIII/13 SC',\n",
       "  'secured': '78'},\n",
       " {'candidate': 'RITA BAURI',\n",
       "  'electors': '1047',\n",
       "  'osn': '2',\n",
       "  'party': 'AITC',\n",
       "  'polled': '875',\n",
       "  'rejected': '19',\n",
       "  'seat': 'XIII/13 SC',\n",
       "  'secured': '448'},\n",
       " {'candidate': 'SUNIL BAGDI',\n",
       "  'electors': '1047',\n",
       "  'osn': '3',\n",
       "  'party': 'CPIM',\n",
       "  'polled': '875',\n",
       "  'rejected': '19',\n",
       "  'seat': 'XIII/13 SC',\n",
       "  'secured': '330'},\n",
       " {'candidate': 'AZAD HOSSAIN MIDYA',\n",
       "  'electors': '1055',\n",
       "  'osn': '1',\n",
       "  'party': 'INC',\n",
       "  'polled': '818',\n",
       "  'rejected': '47',\n",
       "  'seat': 'XIV/14 GENERAL',\n",
       "  'secured': '185'},\n",
       " {'candidate': 'ATARUL  HOQUE',\n",
       "  'electors': '1055',\n",
       "  'osn': '2',\n",
       "  'party': 'AITC',\n",
       "  'polled': '818',\n",
       "  'rejected': '47',\n",
       "  'seat': 'XIV/14 GENERAL',\n",
       "  'secured': '378'},\n",
       " {'candidate': 'RABIYAL MIDYA',\n",
       "  'electors': '1055',\n",
       "  'osn': '3',\n",
       "  'party': 'CPIM',\n",
       "  'polled': '818',\n",
       "  'rejected': '47',\n",
       "  'seat': 'XIV/14 GENERAL',\n",
       "  'secured': '208'},\n",
       " {'candidate': 'MANNAN KHAN',\n",
       "  'electors': '918',\n",
       "  'osn': '1',\n",
       "  'party': 'CPIM',\n",
       "  'polled': '659',\n",
       "  'rejected': '19',\n",
       "  'seat': 'XV/15 GENERAL',\n",
       "  'secured': '341'},\n",
       " {'candidate': 'MIDYA  NABIJAN',\n",
       "  'electors': '918',\n",
       "  'osn': '2',\n",
       "  'party': 'AITC',\n",
       "  'polled': '659',\n",
       "  'rejected': '19',\n",
       "  'seat': 'XV/15 GENERAL',\n",
       "  'secured': '299'},\n",
       " {'candidate': 'FAYJUN  BEGAM',\n",
       "  'electors': '937',\n",
       "  'osn': '1',\n",
       "  'party': 'AITC',\n",
       "  'polled': '671',\n",
       "  'rejected': '12',\n",
       "  'seat': 'XVI/16 BCW',\n",
       "  'secured': '367'},\n",
       " {'candidate': 'MUKSEDA BEGAM',\n",
       "  'electors': '937',\n",
       "  'osn': '2',\n",
       "  'party': 'CPIM',\n",
       "  'polled': '671',\n",
       "  'rejected': '12',\n",
       "  'seat': 'XVI/16 BCW',\n",
       "  'secured': '148'},\n",
       " {'candidate': 'SUFIA KHATUN',\n",
       "  'electors': '937',\n",
       "  'osn': '3',\n",
       "  'party': 'INC',\n",
       "  'polled': '671',\n",
       "  'rejected': '12',\n",
       "  'seat': 'XVI/16 BCW',\n",
       "  'secured': '144'},\n",
       " {'candidate': 'KHAN RUKUBUDDIN',\n",
       "  'electors': '1155',\n",
       "  'osn': '1',\n",
       "  'party': 'AITC',\n",
       "  'polled': '870',\n",
       "  'rejected': '13',\n",
       "  'seat': 'XVII/17 BC',\n",
       "  'secured': '510'},\n",
       " {'candidate': 'MOSIHUR RAHAMAN MALLICK',\n",
       "  'electors': '1155',\n",
       "  'osn': '2',\n",
       "  'party': 'INC',\n",
       "  'polled': '870',\n",
       "  'rejected': '13',\n",
       "  'seat': 'XVII/17 BC',\n",
       "  'secured': '53'},\n",
       " {'candidate': 'RABBUL KHAN',\n",
       "  'electors': '1155',\n",
       "  'osn': '3',\n",
       "  'party': 'CPIM',\n",
       "  'polled': '870',\n",
       "  'rejected': '13',\n",
       "  'seat': 'XVII/17 BC',\n",
       "  'secured': '294'}]"
      ]
     },
     "execution_count": 39,
     "metadata": {},
     "output_type": "execute_result"
    }
   ],
   "source": [
    "data"
   ]
  },
  {
   "cell_type": "markdown",
   "metadata": {},
   "source": [
    "# 4. Exporting data to CSV\n",
    "\n",
    "We can then loop through all the combinations of the dropdown menu we want, collect the information from the generated table, and append it to the `data` list. Once we're done, we can write it to a CSV."
   ]
  },
  {
   "cell_type": "code",
   "execution_count": null,
   "metadata": {
    "collapsed": true
   },
   "outputs": [],
   "source": [
    "header = data[0].keys()\n",
    "\n",
    "with open('WBS-table.csv', 'w') as output_file:\n",
    "    dict_writer = csv.DictWriter(output_file, header)\n",
    "    dict_writer.writeheader()\n",
    "    dict_writer.writerows(data)\n",
    "    \n",
    "pandas.read_csv('WBS-table.csv')"
   ]
  }
 ],
 "metadata": {
  "anaconda-cloud": {},
  "kernelspec": {
   "display_name": "Python 3",
   "language": "python",
   "name": "python3"
  },
  "language_info": {
   "codemirror_mode": {
    "name": "ipython",
    "version": 3
   },
   "file_extension": ".py",
   "mimetype": "text/x-python",
   "name": "python",
   "nbconvert_exporter": "python",
   "pygments_lexer": "ipython3",
   "version": "3.5.2"
  }
 },
 "nbformat": 4,
 "nbformat_minor": 1
}
