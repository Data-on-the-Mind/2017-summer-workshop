{
 "cells": [
  {
   "cell_type": "markdown",
   "metadata": {},
   "source": [
    "# Accessing Databases via Web APIs\n",
    "* * * * *\n",
    "\n",
    "In this lesson we'll learn what an API (Application Programming Interface) is, how it's normally used, and how we can collect data from it. We'll then look at how R can help us quickly gather data from APIs, parse the data, and write to a CSV. There are four sections:\n",
    "\n",
    "1. Constructing an API GET request\n",
    "2. Parsing the JSON response\n",
    "3. Looping through result pages\n",
    "4. Exporting to CSV\n",
    "\n",
    "First we'll import the required R libraries:"
   ]
  },
  {
   "cell_type": "code",
   "execution_count": null,
   "metadata": {
    "collapsed": true
   },
   "outputs": [],
   "source": [
    "library(data.table)  # for rbindlist to merge list of data frames"
   ]
  },
  {
   "cell_type": "markdown",
   "metadata": {},
   "source": [
    "## 1. Constructing an API GET request\n",
    "*****\n",
    "\n",
    "We're going to use the New York Times API. You'll need to first [sign up for an API key](https://developer.nytimes.com/signup).\n",
    "\n",
    "We know that every call to any API will require us to provide:\n",
    "\n",
    "1. a base URL for the API, \n",
    "2. (usually) some authorization code or key, and \n",
    "3. a format for the response.\n",
    "\n",
    "Let's write this information to some variables:"
   ]
  },
  {
   "cell_type": "code",
   "execution_count": null,
   "metadata": {
    "collapsed": true
   },
   "outputs": [],
   "source": [
    "# set API key var\n",
    "key <- \"\"\n",
    "\n",
    "# set base url var\n",
    "base.url <- \"http://api.nytimes.com/svc/search/v2/articlesearch\"\n",
    "\n",
    "# set response format var\n",
    "response.format <- \".json\""
   ]
  },
  {
   "cell_type": "markdown",
   "metadata": {},
   "source": [
    "These variables prepare to tell R the basics of our GET request.\n",
    "\n",
    "You often want to send some sort of data in the URL’s query string. This data tells the API what information you want."
   ]
  },
  {
   "cell_type": "code",
   "execution_count": null,
   "metadata": {
    "collapsed": false
   },
   "outputs": [],
   "source": [
    "# specify a main search term (q)\n",
    "search.term <- 'Duke Ellington'\n",
    "search.term <- URLencode(URL = search.term, reserved = TRUE)\n",
    "print(search.term)"
   ]
  },
  {
   "cell_type": "markdown",
   "metadata": {},
   "source": [
    "Because URLs do not accept spaces, we have to encode it with a `%20` between our search words. You can look up more symbols for [HTML URL encoding](https://www.w3schools.com/tags/ref_urlencode.asp). But luckily R's `URLencode` does all this for us."
   ]
  },
  {
   "cell_type": "code",
   "execution_count": null,
   "metadata": {
    "collapsed": false
   },
   "outputs": [],
   "source": [
    "# paste components together to create URL for get request\n",
    "get.request <- paste0(base.url, response.format, \"?\", \"q=\", search.term, \"&api-key=\", key)\n",
    "print(get.request)"
   ]
  },
  {
   "cell_type": "markdown",
   "metadata": {},
   "source": [
    "Try copying and pasting this URL in your browser and see what you get. It looks like a mess! This is [JSON](https://www.w3schools.com/js/js_json_intro.asp). While it may look scary, it's just a tree structure of key and value pairs.\n",
    "\n",
    "NOTE: We know the parameters above are `q` and `api-key` from the [NYT API Documentation](http://developer.nytimes.com/article_search_v2.json). You can add all the parameters you want from there!\n",
    "\n",
    "Now let's actually make the GET request in R:"
   ]
  },
  {
   "cell_type": "code",
   "execution_count": null,
   "metadata": {
    "collapsed": false
   },
   "outputs": [],
   "source": [
    "# send the GET request using httr package\n",
    "response <- httr::GET(url = get.request)\n",
    "print(response)"
   ]
  },
  {
   "cell_type": "markdown",
   "metadata": {},
   "source": [
    "Then use `httr`'s `content` function to read the HTML text of the response:"
   ]
  },
  {
   "cell_type": "code",
   "execution_count": null,
   "metadata": {
    "collapsed": false
   },
   "outputs": [],
   "source": [
    "# inspect the content of the response, parsing the result as text\n",
    "response <- httr::content(x = response, as = \"text\")\n",
    "substr(x = response, start = 1, stop = 1000)"
   ]
  },
  {
   "cell_type": "markdown",
   "metadata": {},
   "source": [
    "## 2. Parsing the JSON response"
   ]
  },
  {
   "cell_type": "markdown",
   "metadata": {},
   "source": [
    "We can then use the `jsonlite` package to store the JSON in a dataframe:"
   ]
  },
  {
   "cell_type": "code",
   "execution_count": null,
   "metadata": {
    "collapsed": false
   },
   "outputs": [],
   "source": [
    "# convert JSON response to a dataframe\n",
    "response.df<-jsonlite::fromJSON(txt = response, simplifyDataFrame = TRUE, flatten = TRUE)\n",
    "\n",
    "# inspect the dataframe\n",
    "str(response.df, max.level = 3)\n",
    "\n",
    "# get number of hits\n",
    "print(response.df$response$meta$hits)"
   ]
  },
  {
   "cell_type": "markdown",
   "metadata": {},
   "source": [
    "If we're going to make multiple requests, we can put all of this into a function:"
   ]
  },
  {
   "cell_type": "code",
   "execution_count": null,
   "metadata": {
    "collapsed": true
   },
   "outputs": [],
   "source": [
    "nytapi <- function(search.terms=NULL, begin.date=NULL, end.date=NULL, page=NULL,\n",
    "                     base.url=\"http://api.nytimes.com/svc/search/v2/articlesearch\",\n",
    "                     response.format=\".json\",\n",
    "                     key=\"\"){\n",
    "\n",
    "  # combine parameters\n",
    "  params <- list(\n",
    "    c(\"q\", search.terms),\n",
    "    c(\"begin_date\", begin.date),\n",
    "    c(\"end_date\", end.date),\n",
    "    c(\"page\", page)\n",
    "  )\n",
    "  params <- params[sapply(X = params, length)>1]\n",
    "  params <- sapply(X = params, FUN = paste0, collapse=\"=\")\n",
    "  params <- paste0(params, collapse=\"&\")\n",
    "  \n",
    "  # URL encode query portion\n",
    "  query <- URLencode(URL = params, reserved = FALSE)\n",
    "\n",
    "  # combine with base url and other options\n",
    "  get.request <- paste0(base.url, response.format, \"?\", query, \"&api-key=\", key)\n",
    "  \n",
    "  # send GET request\n",
    "  response <- httr::GET(url = get.request)\n",
    "  \n",
    "  # parse response to JSON\n",
    "  response <- httr::content(response, \"text\")  \n",
    "  response <- jsonlite::fromJSON(txt = response, simplifyDataFrame = T, flatten = T)\n",
    "  \n",
    "  return(response)\n",
    "}"
   ]
  },
  {
   "cell_type": "markdown",
   "metadata": {},
   "source": [
    "To cycle through pages, we'll need to figure out how many hits there are total, and divide that by the 10 per page."
   ]
  },
  {
   "cell_type": "code",
   "execution_count": null,
   "metadata": {
    "collapsed": false
   },
   "outputs": [],
   "source": [
    "# get number of hits, number of page queries\n",
    "duke <- nytapi(search.terms = \"Duke Ellington\", begin.date = 20150101, end.date = 20160101)\n",
    "\n",
    "hits <- duke$response$meta$hits\n",
    "print(hits)\n",
    "\n",
    "calls <- round(hits/10)\n",
    "print(calls)"
   ]
  },
  {
   "cell_type": "markdown",
   "metadata": {},
   "source": [
    "## 3. Looping through result pages"
   ]
  },
  {
   "cell_type": "markdown",
   "metadata": {},
   "source": [
    "So there are 97 hits, which means we'll need to make 10 calls."
   ]
  },
  {
   "cell_type": "code",
   "execution_count": null,
   "metadata": {
    "collapsed": false
   },
   "outputs": [],
   "source": [
    "# get all articles   \n",
    "duke.articles <- sapply(X = 0:calls, FUN = function(page){\n",
    "  response <- tryCatch(expr = {\n",
    "    r <- nytapi(search.terms = \"Duke Ellington\", begin.date = 20150101, end.date = 20160101, page = page)\n",
    "    r$response$docs\n",
    "  }, error=function(e) NULL)\n",
    "  Sys.sleep(5)  # sleep between each call!\n",
    "  return(response)\n",
    "})"
   ]
  },
  {
   "cell_type": "markdown",
   "metadata": {},
   "source": [
    "We can combine the list of dataframes and fill in missing values with `data.table`'s `rbindlist`:"
   ]
  },
  {
   "cell_type": "code",
   "execution_count": null,
   "metadata": {
    "collapsed": false
   },
   "outputs": [],
   "source": [
    "duke.all <- rbindlist(duke.articles, fill=T)"
   ]
  },
  {
   "cell_type": "markdown",
   "metadata": {},
   "source": [
    "## 4. Exporting to CSV"
   ]
  },
  {
   "cell_type": "markdown",
   "metadata": {},
   "source": [
    "Now we can write the characters of the merged dataframes to a CSV:"
   ]
  },
  {
   "cell_type": "code",
   "execution_count": null,
   "metadata": {
    "collapsed": false
   },
   "outputs": [],
   "source": [
    "write.csv(apply(duke.all,2,as.character), file = \"all-articles.csv\")"
   ]
  }
 ],
 "metadata": {
  "anaconda-cloud": {},
  "kernelspec": {
   "display_name": "R",
   "language": "R",
   "name": "ir"
  },
  "language_info": {
   "codemirror_mode": "r",
   "file_extension": ".r",
   "mimetype": "text/x-r-source",
   "name": "R",
   "pygments_lexer": "r",
   "version": "3.3.2"
  }
 },
 "nbformat": 4,
 "nbformat_minor": 0
}
